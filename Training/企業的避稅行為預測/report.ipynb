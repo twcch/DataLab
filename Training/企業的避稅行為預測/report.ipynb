{
 "cells": [
  {
   "metadata": {},
   "cell_type": "markdown",
   "source": "# 項目: 企業的避稅行為預測"
  },
  {
   "metadata": {},
   "cell_type": "markdown",
   "source": [
    "研究目的：\n",
    "\n",
    "- 透過機器學習的線性迴歸模型，預測企業在自身的財務風險下，是否有避稅行為。\n",
    "\n",
    "研究限制：\n",
    "\n",
    "- 目前僅有企業本身的相關資料，缺乏總體經濟等各項指標數據，可能會影響模型的預測能力。\n",
    "- 也僅採用線性迴歸模型預測，對於非線性資料的解釋力不夠。\n",
    "\n",
    "資料來源：\n",
    "\n",
    "- Compustat on WRDS\n",
    "\n",
    "欄位說明：\n",
    "\n",
    "- Global Company Key: 全球公司識別碼\n",
    "- Data Date: 資料日期\n",
    "- Data Year - Fiscal: 財務年度\n",
    "- Industry Format: 產業格式\n",
    "- Level of Consolidation - Company Annual Descriptor: 公司年度合併層級描述\n",
    "- Population Source: 數據來源\n",
    "- Data Format: 資料格式\n",
    "- Ticker Symbol: 股票代碼\n",
    "- CUSIP: CUSIP 識別碼（美國證券識別碼）\n",
    "- Company Name: 公司名稱\n",
    "- ISO Currency Code: ISO 貨幣代碼\n",
    "- Assets - Total: 總資產\n",
    "- Capital Expenditures: 資本支出\n",
    "- Common Shares Outstanding: 已發行普通股數量\n",
    "- Operating Activities - Net Cash Flow: 營運活動現金流量（淨額）\n",
    "- Pretax Income: 稅前收益\n",
    "- Special Items: 特殊項目\n",
    "- Income Taxes Paid: 已支付所得稅\n",
    "- Income Taxes - Total: 所得稅總額\n",
    "- Active/Inactive Status Marker: 活躍/非活躍狀態標記\n",
    "- year: 資料標記\n",
    "\n",
    "避稅行為衡量標準：\n",
    "\n",
    "- Book-Tax Difference (BTD) = 稅前收入 - 總所得稅\n",
    "  - BTD 越高，代表企業可能有避稅行為。"
   ]
  },
  {
   "metadata": {},
   "cell_type": "markdown",
   "source": "## 引入函式庫"
  },
  {
   "metadata": {
    "ExecuteTime": {
     "end_time": "2025-02-22T06:01:46.342461Z",
     "start_time": "2025-02-22T06:01:46.337985Z"
    }
   },
   "cell_type": "code",
   "source": [
    "import pandas as pd\n",
    "import numpy as np\n",
    "import matplotlib.pyplot as plt\n",
    "plt.rcParams['font.sans-serif'] = ['Arial Unicode Ms']\n",
    "import seaborn as sns\n",
    "\n",
    "from sklearn.model_selection import train_test_split\n",
    "from sklearn.linear_model import LinearRegression\n",
    "from sklearn.metrics import mean_squared_error, r2_score\n",
    "from sklearn.preprocessing import RobustScaler\n",
    "from sklearn.experimental import enable_iterative_imputer\n",
    "from sklearn.impute import IterativeImputer\n",
    "from sklearn.linear_model import BayesianRidge"
   ],
   "outputs": [],
   "execution_count": 47
  },
  {
   "metadata": {},
   "cell_type": "markdown",
   "source": "## 資料讀取"
  },
  {
   "metadata": {
    "ExecuteTime": {
     "end_time": "2025-02-22T06:01:46.603972Z",
     "start_time": "2025-02-22T06:01:46.372605Z"
    }
   },
   "cell_type": "code",
   "source": [
    "original_data = pd.read_csv('/Users/twcch/Documents/Drive/8. 數據/Compustat.csv')\n",
    "original_data"
   ],
   "outputs": [
    {
     "data": {
      "text/plain": [
       "        Global Company Key   Data Date  Data Year - Fiscal Industry Format  \\\n",
       "0                     1004  1999/05/31                1998            INDL   \n",
       "1                     1010  1998/12/31                1998            INDL   \n",
       "2                     1013  1998/10/31                1998            INDL   \n",
       "3                     1019  1998/12/31                1998            INDL   \n",
       "4                     1021  1998/06/30                1998            INDL   \n",
       "...                    ...         ...                 ...             ...   \n",
       "206528              318005  2016/12/31                2016            INDL   \n",
       "206529              318728  2016/12/31                2016              FS   \n",
       "206530              318728  2016/12/31                2016            INDL   \n",
       "206531              318815  2016/12/31                2016            INDL   \n",
       "206532              319507  2016/12/31                2016            INDL   \n",
       "\n",
       "       Level of Consolidation - Company Annual Descriptor Population Source  \\\n",
       "0                                                       C                 D   \n",
       "1                                                       C                 D   \n",
       "2                                                       C                 D   \n",
       "3                                                       C                 D   \n",
       "4                                                       C                 D   \n",
       "...                                                   ...               ...   \n",
       "206528                                                  C                 D   \n",
       "206529                                                  C                 D   \n",
       "206530                                                  C                 D   \n",
       "206531                                                  C                 D   \n",
       "206532                                                  C                 D   \n",
       "\n",
       "       Data Format Ticker Symbol      CUSIP                 Company Name  ...  \\\n",
       "0              STD           AIR     361105                     AAR CORP  ...   \n",
       "1              STD         4165A  00099V004  ACF INDUSTRIES HOLDING CORP  ...   \n",
       "2              STD          ADCT     886309   ADC TELECOMMUNICATIONS INC  ...   \n",
       "3              STD          AFAP    1038108   AFA PROTECTIVE SYSTEMS INC  ...   \n",
       "4              STD          IWKS    1058205             AFP IMAGING CORP  ...   \n",
       "...            ...           ...        ...                          ...  ...   \n",
       "206528         STD          ARGX  04016X101                   ARGEN-X SE  ...   \n",
       "206529         STD           ATH  G0684D107           ATHENE HOLDING LTD  ...   \n",
       "206530         STD           ATH  G0684D107           ATHENE HOLDING LTD  ...   \n",
       "206531         STD           MTP  59564R104          MIDATECH PHARMA PLC  ...   \n",
       "206532         STD          MTFB  619784101                MOTIF BIO PLC  ...   \n",
       "\n",
       "       Assets - Total  Capital Expenditures  Common Shares Outstanding  \\\n",
       "0             726.630                36.131                     27.381   \n",
       "1            3257.300               101.700                      0.015   \n",
       "2            1300.587                94.549                    134.897   \n",
       "3              29.283                 2.144                      0.172   \n",
       "4              18.661                 0.480                      9.768   \n",
       "...               ...                   ...                        ...   \n",
       "206528        111.611                 0.886                     20.126   \n",
       "206529      86720.000                   NaN                        NaN   \n",
       "206530      86720.000                 0.000                    200.411   \n",
       "206531         69.937                 1.662                     24.350   \n",
       "206532         28.426                 0.000                      9.787   \n",
       "\n",
       "        Operating Activities - Net Cash Flow  Pretax Income  Special Items  \\\n",
       "0                                     28.525         59.786          0.000   \n",
       "1                                     92.400        108.800          0.000   \n",
       "2                                     82.078        225.734          0.000   \n",
       "3                                      5.699          3.175          0.000   \n",
       "4                                     -0.658         -3.264         -3.321   \n",
       "...                                      ...            ...            ...   \n",
       "206528                                11.184        -22.554          0.000   \n",
       "206529                                   NaN        753.000        -22.000   \n",
       "206530                              1199.000        753.000        -22.000   \n",
       "206531                               -16.144        -36.175        -14.080   \n",
       "206532                               -27.942        -40.324          0.083   \n",
       "\n",
       "        Income Taxes Paid  Income Taxes - Total  \\\n",
       "0                   4.400                18.115   \n",
       "1                  24.500                41.400   \n",
       "2                  75.275                79.007   \n",
       "3                   1.150                 1.528   \n",
       "4                   0.162                 0.064   \n",
       "...                   ...                   ...   \n",
       "206528                NaN                 0.000   \n",
       "206529                NaN               -52.000   \n",
       "206530            -31.000               -52.000   \n",
       "206531             -2.036               -11.301   \n",
       "206532              0.000                 0.000   \n",
       "\n",
       "        Active/Inactive Status Marker  year  \n",
       "0                                   A  1998  \n",
       "1                                   I  1998  \n",
       "2                                   I  1998  \n",
       "3                                   I  1998  \n",
       "4                                   I  1998  \n",
       "...                               ...   ...  \n",
       "206528                              A  2016  \n",
       "206529                              A  2016  \n",
       "206530                              A  2016  \n",
       "206531                              A  2016  \n",
       "206532                              A  2016  \n",
       "\n",
       "[206533 rows x 21 columns]"
      ],
      "text/html": [
       "<div>\n",
       "<style scoped>\n",
       "    .dataframe tbody tr th:only-of-type {\n",
       "        vertical-align: middle;\n",
       "    }\n",
       "\n",
       "    .dataframe tbody tr th {\n",
       "        vertical-align: top;\n",
       "    }\n",
       "\n",
       "    .dataframe thead th {\n",
       "        text-align: right;\n",
       "    }\n",
       "</style>\n",
       "<table border=\"1\" class=\"dataframe\">\n",
       "  <thead>\n",
       "    <tr style=\"text-align: right;\">\n",
       "      <th></th>\n",
       "      <th>Global Company Key</th>\n",
       "      <th>Data Date</th>\n",
       "      <th>Data Year - Fiscal</th>\n",
       "      <th>Industry Format</th>\n",
       "      <th>Level of Consolidation - Company Annual Descriptor</th>\n",
       "      <th>Population Source</th>\n",
       "      <th>Data Format</th>\n",
       "      <th>Ticker Symbol</th>\n",
       "      <th>CUSIP</th>\n",
       "      <th>Company Name</th>\n",
       "      <th>...</th>\n",
       "      <th>Assets - Total</th>\n",
       "      <th>Capital Expenditures</th>\n",
       "      <th>Common Shares Outstanding</th>\n",
       "      <th>Operating Activities - Net Cash Flow</th>\n",
       "      <th>Pretax Income</th>\n",
       "      <th>Special Items</th>\n",
       "      <th>Income Taxes Paid</th>\n",
       "      <th>Income Taxes - Total</th>\n",
       "      <th>Active/Inactive Status Marker</th>\n",
       "      <th>year</th>\n",
       "    </tr>\n",
       "  </thead>\n",
       "  <tbody>\n",
       "    <tr>\n",
       "      <th>0</th>\n",
       "      <td>1004</td>\n",
       "      <td>1999/05/31</td>\n",
       "      <td>1998</td>\n",
       "      <td>INDL</td>\n",
       "      <td>C</td>\n",
       "      <td>D</td>\n",
       "      <td>STD</td>\n",
       "      <td>AIR</td>\n",
       "      <td>361105</td>\n",
       "      <td>AAR CORP</td>\n",
       "      <td>...</td>\n",
       "      <td>726.630</td>\n",
       "      <td>36.131</td>\n",
       "      <td>27.381</td>\n",
       "      <td>28.525</td>\n",
       "      <td>59.786</td>\n",
       "      <td>0.000</td>\n",
       "      <td>4.400</td>\n",
       "      <td>18.115</td>\n",
       "      <td>A</td>\n",
       "      <td>1998</td>\n",
       "    </tr>\n",
       "    <tr>\n",
       "      <th>1</th>\n",
       "      <td>1010</td>\n",
       "      <td>1998/12/31</td>\n",
       "      <td>1998</td>\n",
       "      <td>INDL</td>\n",
       "      <td>C</td>\n",
       "      <td>D</td>\n",
       "      <td>STD</td>\n",
       "      <td>4165A</td>\n",
       "      <td>00099V004</td>\n",
       "      <td>ACF INDUSTRIES HOLDING CORP</td>\n",
       "      <td>...</td>\n",
       "      <td>3257.300</td>\n",
       "      <td>101.700</td>\n",
       "      <td>0.015</td>\n",
       "      <td>92.400</td>\n",
       "      <td>108.800</td>\n",
       "      <td>0.000</td>\n",
       "      <td>24.500</td>\n",
       "      <td>41.400</td>\n",
       "      <td>I</td>\n",
       "      <td>1998</td>\n",
       "    </tr>\n",
       "    <tr>\n",
       "      <th>2</th>\n",
       "      <td>1013</td>\n",
       "      <td>1998/10/31</td>\n",
       "      <td>1998</td>\n",
       "      <td>INDL</td>\n",
       "      <td>C</td>\n",
       "      <td>D</td>\n",
       "      <td>STD</td>\n",
       "      <td>ADCT</td>\n",
       "      <td>886309</td>\n",
       "      <td>ADC TELECOMMUNICATIONS INC</td>\n",
       "      <td>...</td>\n",
       "      <td>1300.587</td>\n",
       "      <td>94.549</td>\n",
       "      <td>134.897</td>\n",
       "      <td>82.078</td>\n",
       "      <td>225.734</td>\n",
       "      <td>0.000</td>\n",
       "      <td>75.275</td>\n",
       "      <td>79.007</td>\n",
       "      <td>I</td>\n",
       "      <td>1998</td>\n",
       "    </tr>\n",
       "    <tr>\n",
       "      <th>3</th>\n",
       "      <td>1019</td>\n",
       "      <td>1998/12/31</td>\n",
       "      <td>1998</td>\n",
       "      <td>INDL</td>\n",
       "      <td>C</td>\n",
       "      <td>D</td>\n",
       "      <td>STD</td>\n",
       "      <td>AFAP</td>\n",
       "      <td>1038108</td>\n",
       "      <td>AFA PROTECTIVE SYSTEMS INC</td>\n",
       "      <td>...</td>\n",
       "      <td>29.283</td>\n",
       "      <td>2.144</td>\n",
       "      <td>0.172</td>\n",
       "      <td>5.699</td>\n",
       "      <td>3.175</td>\n",
       "      <td>0.000</td>\n",
       "      <td>1.150</td>\n",
       "      <td>1.528</td>\n",
       "      <td>I</td>\n",
       "      <td>1998</td>\n",
       "    </tr>\n",
       "    <tr>\n",
       "      <th>4</th>\n",
       "      <td>1021</td>\n",
       "      <td>1998/06/30</td>\n",
       "      <td>1998</td>\n",
       "      <td>INDL</td>\n",
       "      <td>C</td>\n",
       "      <td>D</td>\n",
       "      <td>STD</td>\n",
       "      <td>IWKS</td>\n",
       "      <td>1058205</td>\n",
       "      <td>AFP IMAGING CORP</td>\n",
       "      <td>...</td>\n",
       "      <td>18.661</td>\n",
       "      <td>0.480</td>\n",
       "      <td>9.768</td>\n",
       "      <td>-0.658</td>\n",
       "      <td>-3.264</td>\n",
       "      <td>-3.321</td>\n",
       "      <td>0.162</td>\n",
       "      <td>0.064</td>\n",
       "      <td>I</td>\n",
       "      <td>1998</td>\n",
       "    </tr>\n",
       "    <tr>\n",
       "      <th>...</th>\n",
       "      <td>...</td>\n",
       "      <td>...</td>\n",
       "      <td>...</td>\n",
       "      <td>...</td>\n",
       "      <td>...</td>\n",
       "      <td>...</td>\n",
       "      <td>...</td>\n",
       "      <td>...</td>\n",
       "      <td>...</td>\n",
       "      <td>...</td>\n",
       "      <td>...</td>\n",
       "      <td>...</td>\n",
       "      <td>...</td>\n",
       "      <td>...</td>\n",
       "      <td>...</td>\n",
       "      <td>...</td>\n",
       "      <td>...</td>\n",
       "      <td>...</td>\n",
       "      <td>...</td>\n",
       "      <td>...</td>\n",
       "      <td>...</td>\n",
       "    </tr>\n",
       "    <tr>\n",
       "      <th>206528</th>\n",
       "      <td>318005</td>\n",
       "      <td>2016/12/31</td>\n",
       "      <td>2016</td>\n",
       "      <td>INDL</td>\n",
       "      <td>C</td>\n",
       "      <td>D</td>\n",
       "      <td>STD</td>\n",
       "      <td>ARGX</td>\n",
       "      <td>04016X101</td>\n",
       "      <td>ARGEN-X SE</td>\n",
       "      <td>...</td>\n",
       "      <td>111.611</td>\n",
       "      <td>0.886</td>\n",
       "      <td>20.126</td>\n",
       "      <td>11.184</td>\n",
       "      <td>-22.554</td>\n",
       "      <td>0.000</td>\n",
       "      <td>NaN</td>\n",
       "      <td>0.000</td>\n",
       "      <td>A</td>\n",
       "      <td>2016</td>\n",
       "    </tr>\n",
       "    <tr>\n",
       "      <th>206529</th>\n",
       "      <td>318728</td>\n",
       "      <td>2016/12/31</td>\n",
       "      <td>2016</td>\n",
       "      <td>FS</td>\n",
       "      <td>C</td>\n",
       "      <td>D</td>\n",
       "      <td>STD</td>\n",
       "      <td>ATH</td>\n",
       "      <td>G0684D107</td>\n",
       "      <td>ATHENE HOLDING LTD</td>\n",
       "      <td>...</td>\n",
       "      <td>86720.000</td>\n",
       "      <td>NaN</td>\n",
       "      <td>NaN</td>\n",
       "      <td>NaN</td>\n",
       "      <td>753.000</td>\n",
       "      <td>-22.000</td>\n",
       "      <td>NaN</td>\n",
       "      <td>-52.000</td>\n",
       "      <td>A</td>\n",
       "      <td>2016</td>\n",
       "    </tr>\n",
       "    <tr>\n",
       "      <th>206530</th>\n",
       "      <td>318728</td>\n",
       "      <td>2016/12/31</td>\n",
       "      <td>2016</td>\n",
       "      <td>INDL</td>\n",
       "      <td>C</td>\n",
       "      <td>D</td>\n",
       "      <td>STD</td>\n",
       "      <td>ATH</td>\n",
       "      <td>G0684D107</td>\n",
       "      <td>ATHENE HOLDING LTD</td>\n",
       "      <td>...</td>\n",
       "      <td>86720.000</td>\n",
       "      <td>0.000</td>\n",
       "      <td>200.411</td>\n",
       "      <td>1199.000</td>\n",
       "      <td>753.000</td>\n",
       "      <td>-22.000</td>\n",
       "      <td>-31.000</td>\n",
       "      <td>-52.000</td>\n",
       "      <td>A</td>\n",
       "      <td>2016</td>\n",
       "    </tr>\n",
       "    <tr>\n",
       "      <th>206531</th>\n",
       "      <td>318815</td>\n",
       "      <td>2016/12/31</td>\n",
       "      <td>2016</td>\n",
       "      <td>INDL</td>\n",
       "      <td>C</td>\n",
       "      <td>D</td>\n",
       "      <td>STD</td>\n",
       "      <td>MTP</td>\n",
       "      <td>59564R104</td>\n",
       "      <td>MIDATECH PHARMA PLC</td>\n",
       "      <td>...</td>\n",
       "      <td>69.937</td>\n",
       "      <td>1.662</td>\n",
       "      <td>24.350</td>\n",
       "      <td>-16.144</td>\n",
       "      <td>-36.175</td>\n",
       "      <td>-14.080</td>\n",
       "      <td>-2.036</td>\n",
       "      <td>-11.301</td>\n",
       "      <td>A</td>\n",
       "      <td>2016</td>\n",
       "    </tr>\n",
       "    <tr>\n",
       "      <th>206532</th>\n",
       "      <td>319507</td>\n",
       "      <td>2016/12/31</td>\n",
       "      <td>2016</td>\n",
       "      <td>INDL</td>\n",
       "      <td>C</td>\n",
       "      <td>D</td>\n",
       "      <td>STD</td>\n",
       "      <td>MTFB</td>\n",
       "      <td>619784101</td>\n",
       "      <td>MOTIF BIO PLC</td>\n",
       "      <td>...</td>\n",
       "      <td>28.426</td>\n",
       "      <td>0.000</td>\n",
       "      <td>9.787</td>\n",
       "      <td>-27.942</td>\n",
       "      <td>-40.324</td>\n",
       "      <td>0.083</td>\n",
       "      <td>0.000</td>\n",
       "      <td>0.000</td>\n",
       "      <td>A</td>\n",
       "      <td>2016</td>\n",
       "    </tr>\n",
       "  </tbody>\n",
       "</table>\n",
       "<p>206533 rows × 21 columns</p>\n",
       "</div>"
      ]
     },
     "execution_count": 48,
     "metadata": {},
     "output_type": "execute_result"
    }
   ],
   "execution_count": 48
  },
  {
   "metadata": {},
   "cell_type": "markdown",
   "source": "## 資料前處理"
  },
  {
   "metadata": {
    "ExecuteTime": {
     "end_time": "2025-02-22T06:01:46.638732Z",
     "start_time": "2025-02-22T06:01:46.630916Z"
    }
   },
   "cell_type": "code",
   "source": "cleaned_data = original_data.copy()",
   "outputs": [],
   "execution_count": 49
  },
  {
   "metadata": {},
   "cell_type": "markdown",
   "source": "### 資料分析(處理前)"
  },
  {
   "metadata": {},
   "cell_type": "markdown",
   "source": "先查看資料，確認資料的狀況，並擬定處理策略。"
  },
  {
   "metadata": {},
   "cell_type": "markdown",
   "source": "#### 缺失值分析"
  },
  {
   "metadata": {
    "ExecuteTime": {
     "end_time": "2025-02-22T06:01:46.695656Z",
     "start_time": "2025-02-22T06:01:46.658590Z"
    }
   },
   "cell_type": "code",
   "source": [
    "print(\"\\n[各欄位缺失值統計]\")\n",
    "missing_count = cleaned_data.isnull().sum()\n",
    "missing_ratio = (missing_count / len(cleaned_data)) * 100\n",
    "missing_df = pd.DataFrame({\n",
    "    'Missing Values': missing_count,\n",
    "    'Missing Ratio (%)': missing_ratio\n",
    "}).sort_values(by='Missing Values', ascending=False)\n",
    "display(missing_df)"
   ],
   "outputs": [
    {
     "name": "stdout",
     "output_type": "stream",
     "text": [
      "\n",
      "[各欄位缺失值統計]\n"
     ]
    },
    {
     "data": {
      "text/plain": [
       "                                                    Missing Values  \\\n",
       "Income Taxes Paid                                            86739   \n",
       "Capital Expenditures                                         59507   \n",
       "Operating Activities - Net Cash Flow                         58556   \n",
       "Common Shares Outstanding                                    32353   \n",
       "Special Items                                                31725   \n",
       "Income Taxes - Total                                         30119   \n",
       "Pretax Income                                                30112   \n",
       "Assets - Total                                               29362   \n",
       "CUSIP                                                          717   \n",
       "Ticker Symbol                                                  110   \n",
       "Global Company Key                                               0   \n",
       "Active/Inactive Status Marker                                    0   \n",
       "ISO Currency Code                                                0   \n",
       "Data Date                                                        0   \n",
       "Company Name                                                     0   \n",
       "Data Format                                                      0   \n",
       "Population Source                                                0   \n",
       "Level of Consolidation - Company Annual Descriptor               0   \n",
       "Industry Format                                                  0   \n",
       "Data Year - Fiscal                                               0   \n",
       "year                                                             0   \n",
       "\n",
       "                                                    Missing Ratio (%)  \n",
       "Income Taxes Paid                                           41.997647  \n",
       "Capital Expenditures                                        28.812345  \n",
       "Operating Activities - Net Cash Flow                        28.351886  \n",
       "Common Shares Outstanding                                   15.664809  \n",
       "Special Items                                               15.360741  \n",
       "Income Taxes - Total                                        14.583142  \n",
       "Pretax Income                                               14.579752  \n",
       "Assets - Total                                              14.216614  \n",
       "CUSIP                                                        0.347160  \n",
       "Ticker Symbol                                                0.053260  \n",
       "Global Company Key                                           0.000000  \n",
       "Active/Inactive Status Marker                                0.000000  \n",
       "ISO Currency Code                                            0.000000  \n",
       "Data Date                                                    0.000000  \n",
       "Company Name                                                 0.000000  \n",
       "Data Format                                                  0.000000  \n",
       "Population Source                                            0.000000  \n",
       "Level of Consolidation - Company Annual Descriptor           0.000000  \n",
       "Industry Format                                              0.000000  \n",
       "Data Year - Fiscal                                           0.000000  \n",
       "year                                                         0.000000  "
      ],
      "text/html": [
       "<div>\n",
       "<style scoped>\n",
       "    .dataframe tbody tr th:only-of-type {\n",
       "        vertical-align: middle;\n",
       "    }\n",
       "\n",
       "    .dataframe tbody tr th {\n",
       "        vertical-align: top;\n",
       "    }\n",
       "\n",
       "    .dataframe thead th {\n",
       "        text-align: right;\n",
       "    }\n",
       "</style>\n",
       "<table border=\"1\" class=\"dataframe\">\n",
       "  <thead>\n",
       "    <tr style=\"text-align: right;\">\n",
       "      <th></th>\n",
       "      <th>Missing Values</th>\n",
       "      <th>Missing Ratio (%)</th>\n",
       "    </tr>\n",
       "  </thead>\n",
       "  <tbody>\n",
       "    <tr>\n",
       "      <th>Income Taxes Paid</th>\n",
       "      <td>86739</td>\n",
       "      <td>41.997647</td>\n",
       "    </tr>\n",
       "    <tr>\n",
       "      <th>Capital Expenditures</th>\n",
       "      <td>59507</td>\n",
       "      <td>28.812345</td>\n",
       "    </tr>\n",
       "    <tr>\n",
       "      <th>Operating Activities - Net Cash Flow</th>\n",
       "      <td>58556</td>\n",
       "      <td>28.351886</td>\n",
       "    </tr>\n",
       "    <tr>\n",
       "      <th>Common Shares Outstanding</th>\n",
       "      <td>32353</td>\n",
       "      <td>15.664809</td>\n",
       "    </tr>\n",
       "    <tr>\n",
       "      <th>Special Items</th>\n",
       "      <td>31725</td>\n",
       "      <td>15.360741</td>\n",
       "    </tr>\n",
       "    <tr>\n",
       "      <th>Income Taxes - Total</th>\n",
       "      <td>30119</td>\n",
       "      <td>14.583142</td>\n",
       "    </tr>\n",
       "    <tr>\n",
       "      <th>Pretax Income</th>\n",
       "      <td>30112</td>\n",
       "      <td>14.579752</td>\n",
       "    </tr>\n",
       "    <tr>\n",
       "      <th>Assets - Total</th>\n",
       "      <td>29362</td>\n",
       "      <td>14.216614</td>\n",
       "    </tr>\n",
       "    <tr>\n",
       "      <th>CUSIP</th>\n",
       "      <td>717</td>\n",
       "      <td>0.347160</td>\n",
       "    </tr>\n",
       "    <tr>\n",
       "      <th>Ticker Symbol</th>\n",
       "      <td>110</td>\n",
       "      <td>0.053260</td>\n",
       "    </tr>\n",
       "    <tr>\n",
       "      <th>Global Company Key</th>\n",
       "      <td>0</td>\n",
       "      <td>0.000000</td>\n",
       "    </tr>\n",
       "    <tr>\n",
       "      <th>Active/Inactive Status Marker</th>\n",
       "      <td>0</td>\n",
       "      <td>0.000000</td>\n",
       "    </tr>\n",
       "    <tr>\n",
       "      <th>ISO Currency Code</th>\n",
       "      <td>0</td>\n",
       "      <td>0.000000</td>\n",
       "    </tr>\n",
       "    <tr>\n",
       "      <th>Data Date</th>\n",
       "      <td>0</td>\n",
       "      <td>0.000000</td>\n",
       "    </tr>\n",
       "    <tr>\n",
       "      <th>Company Name</th>\n",
       "      <td>0</td>\n",
       "      <td>0.000000</td>\n",
       "    </tr>\n",
       "    <tr>\n",
       "      <th>Data Format</th>\n",
       "      <td>0</td>\n",
       "      <td>0.000000</td>\n",
       "    </tr>\n",
       "    <tr>\n",
       "      <th>Population Source</th>\n",
       "      <td>0</td>\n",
       "      <td>0.000000</td>\n",
       "    </tr>\n",
       "    <tr>\n",
       "      <th>Level of Consolidation - Company Annual Descriptor</th>\n",
       "      <td>0</td>\n",
       "      <td>0.000000</td>\n",
       "    </tr>\n",
       "    <tr>\n",
       "      <th>Industry Format</th>\n",
       "      <td>0</td>\n",
       "      <td>0.000000</td>\n",
       "    </tr>\n",
       "    <tr>\n",
       "      <th>Data Year - Fiscal</th>\n",
       "      <td>0</td>\n",
       "      <td>0.000000</td>\n",
       "    </tr>\n",
       "    <tr>\n",
       "      <th>year</th>\n",
       "      <td>0</td>\n",
       "      <td>0.000000</td>\n",
       "    </tr>\n",
       "  </tbody>\n",
       "</table>\n",
       "</div>"
      ]
     },
     "metadata": {},
     "output_type": "display_data"
    }
   ],
   "execution_count": 50
  },
  {
   "metadata": {},
   "cell_type": "markdown",
   "source": [
    "預執行策略:\n",
    "\n",
    "- `CUSIP`, `Ticker Symbol`為空值，表示對應不到美國證券識別碼與股票代碼，但是有主要的`Global Company Key`可以辨識，所以忽略不處理\n",
    "- 因為缺失值的比例過高，因原因不可考，不宜直接刪除，傾向採用以下兩種資料合成方式處理，先採用`多重插補`處理\n",
    "  - 多重插補(Multiple Imputation by Chained Equations; MICE): 針對每個欄位建立迴歸模型去預測缺失值\n",
    "  - K-近鄰插補(KNNImputer): 尋找相似的樣本(近鄰)來決定該筆缺失值的合理填補"
   ]
  },
  {
   "metadata": {},
   "cell_type": "markdown",
   "source": "#### 描述性統計"
  },
  {
   "metadata": {
    "ExecuteTime": {
     "end_time": "2025-02-22T06:01:46.809106Z",
     "start_time": "2025-02-22T06:01:46.748384Z"
    }
   },
   "cell_type": "code",
   "source": [
    "print(\"\\n[欄位統計描述]\")\n",
    "cols = ['Assets - Total', 'Capital Expenditures', 'Common Shares Outstanding', 'Operating Activities - Net Cash Flow', 'Pretax Income', 'Special Items', 'Income Taxes Paid', 'Income Taxes - Total']\n",
    "display(cleaned_data[cols].describe())"
   ],
   "outputs": [
    {
     "name": "stdout",
     "output_type": "stream",
     "text": [
      "\n",
      "[欄位統計描述]\n"
     ]
    },
    {
     "data": {
      "text/plain": [
       "       Assets - Total  Capital Expenditures  Common Shares Outstanding  \\\n",
       "count    1.771710e+05         147026.000000              174180.000000   \n",
       "mean     1.311150e+04            208.595842                 122.301076   \n",
       "std      1.092956e+05           1236.675484                 833.305389   \n",
       "min      0.000000e+00           -401.609000                   0.000000   \n",
       "25%      5.105900e+01              0.333000                   7.413750   \n",
       "50%      3.953380e+02              4.477000                  22.104000   \n",
       "75%      2.044782e+03             44.111000                  61.325750   \n",
       "max      3.771200e+06          50233.741000              100092.395000   \n",
       "\n",
       "       Operating Activities - Net Cash Flow  Pretax Income  Special Items  \\\n",
       "count                         147977.000000  176421.000000  174808.000000   \n",
       "mean                             375.283055     253.674005     -28.987341   \n",
       "std                             2746.563123    1837.849080     592.774985   \n",
       "min                          -140537.000000 -108761.000000  -51066.200000   \n",
       "25%                               -0.728000      -3.433000      -2.303000   \n",
       "50%                                9.729000       5.143000       0.000000   \n",
       "75%                              107.336000      65.630000       0.000000   \n",
       "max                           166671.531000  103051.000000  120517.000000   \n",
       "\n",
       "       Income Taxes Paid  Income Taxes - Total  \n",
       "count      119794.000000         176414.000000  \n",
       "mean           76.929469             79.599613  \n",
       "std           663.908013            613.690316  \n",
       "min         -6318.000000         -45415.000000  \n",
       "25%             0.004000              0.000000  \n",
       "50%             1.419000              0.998000  \n",
       "75%            16.639250             16.706000  \n",
       "max        142226.866000          37162.000000  "
      ],
      "text/html": [
       "<div>\n",
       "<style scoped>\n",
       "    .dataframe tbody tr th:only-of-type {\n",
       "        vertical-align: middle;\n",
       "    }\n",
       "\n",
       "    .dataframe tbody tr th {\n",
       "        vertical-align: top;\n",
       "    }\n",
       "\n",
       "    .dataframe thead th {\n",
       "        text-align: right;\n",
       "    }\n",
       "</style>\n",
       "<table border=\"1\" class=\"dataframe\">\n",
       "  <thead>\n",
       "    <tr style=\"text-align: right;\">\n",
       "      <th></th>\n",
       "      <th>Assets - Total</th>\n",
       "      <th>Capital Expenditures</th>\n",
       "      <th>Common Shares Outstanding</th>\n",
       "      <th>Operating Activities - Net Cash Flow</th>\n",
       "      <th>Pretax Income</th>\n",
       "      <th>Special Items</th>\n",
       "      <th>Income Taxes Paid</th>\n",
       "      <th>Income Taxes - Total</th>\n",
       "    </tr>\n",
       "  </thead>\n",
       "  <tbody>\n",
       "    <tr>\n",
       "      <th>count</th>\n",
       "      <td>1.771710e+05</td>\n",
       "      <td>147026.000000</td>\n",
       "      <td>174180.000000</td>\n",
       "      <td>147977.000000</td>\n",
       "      <td>176421.000000</td>\n",
       "      <td>174808.000000</td>\n",
       "      <td>119794.000000</td>\n",
       "      <td>176414.000000</td>\n",
       "    </tr>\n",
       "    <tr>\n",
       "      <th>mean</th>\n",
       "      <td>1.311150e+04</td>\n",
       "      <td>208.595842</td>\n",
       "      <td>122.301076</td>\n",
       "      <td>375.283055</td>\n",
       "      <td>253.674005</td>\n",
       "      <td>-28.987341</td>\n",
       "      <td>76.929469</td>\n",
       "      <td>79.599613</td>\n",
       "    </tr>\n",
       "    <tr>\n",
       "      <th>std</th>\n",
       "      <td>1.092956e+05</td>\n",
       "      <td>1236.675484</td>\n",
       "      <td>833.305389</td>\n",
       "      <td>2746.563123</td>\n",
       "      <td>1837.849080</td>\n",
       "      <td>592.774985</td>\n",
       "      <td>663.908013</td>\n",
       "      <td>613.690316</td>\n",
       "    </tr>\n",
       "    <tr>\n",
       "      <th>min</th>\n",
       "      <td>0.000000e+00</td>\n",
       "      <td>-401.609000</td>\n",
       "      <td>0.000000</td>\n",
       "      <td>-140537.000000</td>\n",
       "      <td>-108761.000000</td>\n",
       "      <td>-51066.200000</td>\n",
       "      <td>-6318.000000</td>\n",
       "      <td>-45415.000000</td>\n",
       "    </tr>\n",
       "    <tr>\n",
       "      <th>25%</th>\n",
       "      <td>5.105900e+01</td>\n",
       "      <td>0.333000</td>\n",
       "      <td>7.413750</td>\n",
       "      <td>-0.728000</td>\n",
       "      <td>-3.433000</td>\n",
       "      <td>-2.303000</td>\n",
       "      <td>0.004000</td>\n",
       "      <td>0.000000</td>\n",
       "    </tr>\n",
       "    <tr>\n",
       "      <th>50%</th>\n",
       "      <td>3.953380e+02</td>\n",
       "      <td>4.477000</td>\n",
       "      <td>22.104000</td>\n",
       "      <td>9.729000</td>\n",
       "      <td>5.143000</td>\n",
       "      <td>0.000000</td>\n",
       "      <td>1.419000</td>\n",
       "      <td>0.998000</td>\n",
       "    </tr>\n",
       "    <tr>\n",
       "      <th>75%</th>\n",
       "      <td>2.044782e+03</td>\n",
       "      <td>44.111000</td>\n",
       "      <td>61.325750</td>\n",
       "      <td>107.336000</td>\n",
       "      <td>65.630000</td>\n",
       "      <td>0.000000</td>\n",
       "      <td>16.639250</td>\n",
       "      <td>16.706000</td>\n",
       "    </tr>\n",
       "    <tr>\n",
       "      <th>max</th>\n",
       "      <td>3.771200e+06</td>\n",
       "      <td>50233.741000</td>\n",
       "      <td>100092.395000</td>\n",
       "      <td>166671.531000</td>\n",
       "      <td>103051.000000</td>\n",
       "      <td>120517.000000</td>\n",
       "      <td>142226.866000</td>\n",
       "      <td>37162.000000</td>\n",
       "    </tr>\n",
       "  </tbody>\n",
       "</table>\n",
       "</div>"
      ]
     },
     "metadata": {},
     "output_type": "display_data"
    }
   ],
   "execution_count": 51
  },
  {
   "metadata": {},
   "cell_type": "markdown",
   "source": [
    "預執行策略:\n",
    "\n",
    "- `Capital Expenditures`, `Income Taxes Paid`, `Income Taxes - Total`: 最小值有負值，這是不合理的，預計刪除<0的資料\n",
    "- 當以下狀況發生，可能代表資料分佈可能是偏態，可能會採取刪除該筆資料的策略，而非直接套用MinMaxScaler或Z-Score標準化，因為當有嚴重的離群值時，可能會對整體分佈是否帶來更大的扭曲或失真，待後續近一步評估離群值的狀況\n",
    "  - 若平均值與中位數相差過大，代表分佈有可能是偏態，被極端值拉高(或拉低)\n",
    "  - 最小值或最大值跟整體分布差距過大，可能代表存在離群值。\n",
    "  - 標準差可以看出該指標在樣本中變化有多大。若某些財務指標標準差特別高，代表企業間在該指標上的差異巨大，例如某些公司資產或營收極高，而多數公司則維持在較小規模。"
   ]
  },
  {
   "metadata": {},
   "cell_type": "markdown",
   "source": "#### 進階分析描述統計的結果"
  },
  {
   "metadata": {},
   "cell_type": "markdown",
   "source": "##### Assets - Total欄位分析"
  },
  {
   "metadata": {
    "ExecuteTime": {
     "end_time": "2025-02-22T06:01:47.026662Z",
     "start_time": "2025-02-22T06:01:46.824017Z"
    }
   },
   "cell_type": "code",
   "source": [
    "column_name = 'Assets - Total'\n",
    "\n",
    "# 計算偏態係數\n",
    "skewness = cleaned_data[column_name].skew()\n",
    "\n",
    "# 繪製直方圖與密度圖\n",
    "plt.figure(figsize=(8, 5))\n",
    "sns.histplot(cleaned_data[column_name], kde=True, bins=30, color='blue')\n",
    "\n",
    "# 添加標題與偏態係數\n",
    "plt.title(f'{column_name} (Skewness = {skewness:.2f})')\n",
    "plt.xlabel(column_name)\n",
    "plt.ylabel('頻數')\n",
    "\n",
    "# 顯示圖表\n",
    "plt.show()"
   ],
   "outputs": [
    {
     "data": {
      "text/plain": [
       "<Figure size 800x500 with 1 Axes>"
      ],
      "image/png": "[encoded data removed]"
     },
     "metadata": {},
     "output_type": "display_data"
    }
   ],
   "execution_count": 52
  },
  {
   "metadata": {
    "ExecuteTime": {
     "end_time": "2025-02-22T06:01:47.046603Z",
     "start_time": "2025-02-22T06:01:47.041444Z"
    }
   },
   "cell_type": "code",
   "source": [
    "column_name = 'Assets - Total'\n",
    "bins = 10  # 設定級距數量\n",
    "\n",
    "# 先移除 NaN 值\n",
    "filtered_data = cleaned_data[column_name].dropna()\n",
    "\n",
    "# 確保至少有數據\n",
    "if not filtered_data.empty:\n",
    "    counts, bin_edges = np.histogram(filtered_data, bins=bins)\n",
    "\n",
    "    # 建立 DataFrame 來顯示結果\n",
    "    bin_df = pd.DataFrame({\n",
    "        '級距範圍': [f\"{bin_edges[i]:.2f} ~ {bin_edges[i+1]:.2f}\" for i in range(len(bin_edges)-1)],\n",
    "        '資料筆數': counts\n",
    "    })\n",
    "\n",
    "    print(bin_df)\n",
    "else:\n",
    "    print(\"無有效數據可用，請確認資料內容。\")"
   ],
   "outputs": [
    {
     "name": "stdout",
     "output_type": "stream",
     "text": [
      "                      級距範圍    資料筆數\n",
      "0         0.00 ~ 377119.99  175957\n",
      "1    377119.99 ~ 754239.97     536\n",
      "2   754239.97 ~ 1131359.96     266\n",
      "3  1131359.96 ~ 1508479.94     104\n",
      "4  1508479.94 ~ 1885599.93     118\n",
      "5  1885599.93 ~ 2262719.91      84\n",
      "6  2262719.91 ~ 2639839.90      64\n",
      "7  2639839.90 ~ 3016959.88      22\n",
      "8  3016959.88 ~ 3394079.87      16\n",
      "9  3394079.87 ~ 3771199.85       4\n"
     ]
    }
   ],
   "execution_count": 53
  },
  {
   "metadata": {},
   "cell_type": "markdown",
   "source": [
    "預執行策略:\n",
    "\n",
    "從圖表可以看出\"少量極端高值 + 大量集中在相對較低範圍\"，代表資料有嚴重偏態，若直接套用MinMaxScaler或Z-Score標準化，通常會出現以下問題：\n",
    "\n",
    "- 少數高值對最大值或平均值造成嚴重拉扯\n",
    "- 大多數資料被壓縮在相當小的範圍，後續模型難以分辨細微差異\n",
    "\n",
    "處理嚴重偏態分佈常見方法如下，先採用`Robust Scaler(使用中位數 (Median) 和四分位距 (IQR) 進行縮放，對極端值較不敏感。)`嘗試處理：\n",
    "\n",
    "- Yeo-Johnson 轉換\n",
    "- 對數轉換 (Log Transform)\n",
    "- Winsorizing (截尾/壓縮極端值)\n",
    "- Robust Scaler / Robust Standardization\n",
    "- 分群處理 (Grouping 或 Clustering 後再縮放)"
   ]
  },
  {
   "metadata": {},
   "cell_type": "markdown",
   "source": "##### Capital Expenditures欄位分析"
  },
  {
   "metadata": {
    "ExecuteTime": {
     "end_time": "2025-02-22T06:01:47.253084Z",
     "start_time": "2025-02-22T06:01:47.075797Z"
    }
   },
   "cell_type": "code",
   "source": [
    "column_name = 'Capital Expenditures'\n",
    "\n",
    "# 計算偏態係數\n",
    "skewness = cleaned_data[column_name].skew()\n",
    "\n",
    "# 繪製直方圖與密度圖\n",
    "plt.figure(figsize=(8, 5))\n",
    "sns.histplot(cleaned_data[column_name], kde=True, bins=30, color='blue')\n",
    "\n",
    "# 添加標題與偏態係數\n",
    "plt.title(f'{column_name} (Skewness = {skewness:.2f})')\n",
    "plt.xlabel(column_name)\n",
    "plt.ylabel('頻數')\n",
    "\n",
    "# 顯示圖表\n",
    "plt.show()"
   ],
   "outputs": [
    {
     "data": {
      "text/plain": [
       "<Figure size 800x500 with 1 Axes>"
      ],
      "image/png": "[encoded data removed]"
     },
     "metadata": {},
     "output_type": "display_data"
    }
   ],
   "execution_count": 54
  },
  {
   "metadata": {
    "ExecuteTime": {
     "end_time": "2025-02-22T06:01:47.264038Z",
     "start_time": "2025-02-22T06:01:47.257590Z"
    }
   },
   "cell_type": "code",
   "source": [
    "column_name = 'Capital Expenditures'\n",
    "bins = 10  # 設定級距數量\n",
    "\n",
    "# 先移除 NaN 值\n",
    "filtered_data = cleaned_data[column_name].dropna()\n",
    "\n",
    "# 確保至少有數據\n",
    "if not filtered_data.empty:\n",
    "    counts, bin_edges = np.histogram(filtered_data, bins=bins)\n",
    "\n",
    "    # 建立 DataFrame 來顯示結果\n",
    "    bin_df = pd.DataFrame({\n",
    "        '級距範圍': [f\"{bin_edges[i]:.2f} ~ {bin_edges[i+1]:.2f}\" for i in range(len(bin_edges)-1)],\n",
    "        '資料筆數': counts\n",
    "    })\n",
    "\n",
    "    print(bin_df)\n",
    "else:\n",
    "    print(\"無有效數據可用，請確認資料內容。\")"
   ],
   "outputs": [
    {
     "name": "stdout",
     "output_type": "stream",
     "text": [
      "                  級距範圍    資料筆數\n",
      "0    -401.61 ~ 4661.93  145834\n",
      "1    4661.93 ~ 9725.46     698\n",
      "2   9725.46 ~ 14789.00     257\n",
      "3  14789.00 ~ 19852.53     119\n",
      "4  19852.53 ~ 24916.07      49\n",
      "5  24916.07 ~ 29979.60      31\n",
      "6  29979.60 ~ 35043.14      18\n",
      "7  35043.14 ~ 40106.67       7\n",
      "8  40106.67 ~ 45170.21       9\n",
      "9  45170.21 ~ 50233.74       4\n"
     ]
    }
   ],
   "execution_count": 55
  },
  {
   "metadata": {},
   "cell_type": "markdown",
   "source": [
    "預執行策略:\n",
    "\n",
    "同上"
   ]
  },
  {
   "metadata": {},
   "cell_type": "markdown",
   "source": "##### Common Shares Outstanding欄位分析"
  },
  {
   "metadata": {
    "ExecuteTime": {
     "end_time": "2025-02-22T06:01:47.456427Z",
     "start_time": "2025-02-22T06:01:47.277994Z"
    }
   },
   "cell_type": "code",
   "source": [
    "column_name = 'Common Shares Outstanding'\n",
    "\n",
    "# 計算偏態係數\n",
    "skewness = cleaned_data[column_name].skew()\n",
    "\n",
    "# 繪製直方圖與密度圖\n",
    "plt.figure(figsize=(8, 5))\n",
    "sns.histplot(cleaned_data[column_name], kde=True, bins=30, color='blue')\n",
    "\n",
    "# 添加標題與偏態係數\n",
    "plt.title(f'{column_name} (Skewness = {skewness:.2f})')\n",
    "plt.xlabel(column_name)\n",
    "plt.ylabel('頻數')\n",
    "\n",
    "# 顯示圖表\n",
    "plt.show()"
   ],
   "outputs": [
    {
     "data": {
      "text/plain": [
       "<Figure size 800x500 with 1 Axes>"
      ],
      "image/png": "[encoded data removed]"
     },
     "metadata": {},
     "output_type": "display_data"
    }
   ],
   "execution_count": 56
  },
  {
   "metadata": {
    "ExecuteTime": {
     "end_time": "2025-02-22T06:01:47.478482Z",
     "start_time": "2025-02-22T06:01:47.472067Z"
    }
   },
   "cell_type": "code",
   "source": [
    "column_name = 'Common Shares Outstanding'\n",
    "bins = 10  # 設定級距數量\n",
    "\n",
    "# 先移除 NaN 值\n",
    "filtered_data = cleaned_data[column_name].dropna()\n",
    "\n",
    "# 確保至少有數據\n",
    "if not filtered_data.empty:\n",
    "    counts, bin_edges = np.histogram(filtered_data, bins=bins)\n",
    "\n",
    "    # 建立 DataFrame 來顯示結果\n",
    "    bin_df = pd.DataFrame({\n",
    "        '級距範圍': [f\"{bin_edges[i]:.2f} ~ {bin_edges[i+1]:.2f}\" for i in range(len(bin_edges)-1)],\n",
    "        '資料筆數': counts\n",
    "    })\n",
    "\n",
    "    print(bin_df)\n",
    "else:\n",
    "    print(\"無有效數據可用，請確認資料內容。\")"
   ],
   "outputs": [
    {
     "name": "stdout",
     "output_type": "stream",
     "text": [
      "                   級距範圍    資料筆數\n",
      "0       0.00 ~ 10009.24  174072\n",
      "1   10009.24 ~ 20018.48      88\n",
      "2   20018.48 ~ 30027.72       7\n",
      "3   30027.72 ~ 40036.96       3\n",
      "4   40036.96 ~ 50046.20       0\n",
      "5   50046.20 ~ 60055.44       3\n",
      "6   60055.44 ~ 70064.68       0\n",
      "7   70064.68 ~ 80073.92       0\n",
      "8   80073.92 ~ 90083.16       0\n",
      "9  90083.16 ~ 100092.40       7\n"
     ]
    }
   ],
   "execution_count": 57
  },
  {
   "metadata": {},
   "cell_type": "markdown",
   "source": [
    "預執行策略:\n",
    "\n",
    "同上"
   ]
  },
  {
   "metadata": {},
   "cell_type": "markdown",
   "source": "##### Operating Activities - Net Cash Flow欄位分析"
  },
  {
   "metadata": {
    "ExecuteTime": {
     "end_time": "2025-02-22T06:01:47.664418Z",
     "start_time": "2025-02-22T06:01:47.492153Z"
    }
   },
   "cell_type": "code",
   "source": [
    "column_name = 'Operating Activities - Net Cash Flow'\n",
    "\n",
    "# 計算偏態係數\n",
    "skewness = cleaned_data[column_name].skew()\n",
    "\n",
    "# 繪製直方圖與密度圖\n",
    "plt.figure(figsize=(8, 5))\n",
    "sns.histplot(cleaned_data[column_name], kde=True, bins=30, color='blue')\n",
    "\n",
    "# 添加標題與偏態係數\n",
    "plt.title(f'{column_name} (Skewness = {skewness:.2f})')\n",
    "plt.xlabel(column_name)\n",
    "plt.ylabel('頻數')\n",
    "\n",
    "# 顯示圖表\n",
    "plt.show()"
   ],
   "outputs": [
    {
     "data": {
      "text/plain": [
       "<Figure size 800x500 with 1 Axes>"
      ],
      "image/png": "[encoded data removed]"
     },
     "metadata": {},
     "output_type": "display_data"
    }
   ],
   "execution_count": 58
  },
  {
   "metadata": {
    "ExecuteTime": {
     "end_time": "2025-02-22T06:01:47.685931Z",
     "start_time": "2025-02-22T06:01:47.679527Z"
    }
   },
   "cell_type": "code",
   "source": [
    "column_name = 'Operating Activities - Net Cash Flow'\n",
    "bins = 10  # 設定級距數量\n",
    "\n",
    "# 先移除 NaN 值\n",
    "filtered_data = cleaned_data[column_name].dropna()\n",
    "\n",
    "# 確保至少有數據\n",
    "if not filtered_data.empty:\n",
    "    counts, bin_edges = np.histogram(filtered_data, bins=bins)\n",
    "\n",
    "    # 建立 DataFrame 來顯示結果\n",
    "    bin_df = pd.DataFrame({\n",
    "        '級距範圍': [f\"{bin_edges[i]:.2f} ~ {bin_edges[i+1]:.2f}\" for i in range(len(bin_edges)-1)],\n",
    "        '資料筆數': counts\n",
    "    })\n",
    "\n",
    "    print(bin_df)\n",
    "else:\n",
    "    print(\"無有效數據可用，請確認資料內容。\")"
   ],
   "outputs": [
    {
     "name": "stdout",
     "output_type": "stream",
     "text": [
      "                      級距範圍    資料筆數\n",
      "0  -140537.00 ~ -109816.15       3\n",
      "1   -109816.15 ~ -79095.29       1\n",
      "2    -79095.29 ~ -48374.44      14\n",
      "3    -48374.44 ~ -17653.59      64\n",
      "4     -17653.59 ~ 13067.27  147054\n",
      "5      13067.27 ~ 43788.12     754\n",
      "6      43788.12 ~ 74508.97      68\n",
      "7     74508.97 ~ 105229.82      13\n",
      "8    105229.82 ~ 135950.68       4\n",
      "9    135950.68 ~ 166671.53       2\n"
     ]
    }
   ],
   "execution_count": 59
  },
  {
   "metadata": {},
   "cell_type": "markdown",
   "source": [
    "預執行策略:\n",
    "\n",
    "同上"
   ]
  },
  {
   "metadata": {},
   "cell_type": "markdown",
   "source": "##### Pretax Income欄位分析"
  },
  {
   "metadata": {
    "ExecuteTime": {
     "end_time": "2025-02-22T06:01:47.884202Z",
     "start_time": "2025-02-22T06:01:47.700641Z"
    }
   },
   "cell_type": "code",
   "source": [
    "column_name = 'Pretax Income'\n",
    "\n",
    "# 計算偏態係數\n",
    "skewness = cleaned_data[column_name].skew()\n",
    "\n",
    "# 繪製直方圖與密度圖\n",
    "plt.figure(figsize=(8, 5))\n",
    "sns.histplot(cleaned_data[column_name], kde=True, bins=30, color='blue')\n",
    "\n",
    "# 添加標題與偏態係數\n",
    "plt.title(f'{column_name} (Skewness = {skewness:.2f})')\n",
    "plt.xlabel(column_name)\n",
    "plt.ylabel('頻數')\n",
    "\n",
    "# 顯示圖表\n",
    "plt.show()"
   ],
   "outputs": [
    {
     "data": {
      "text/plain": [
       "<Figure size 800x500 with 1 Axes>"
      ],
      "image/png": "[encoded data removed]"
     },
     "metadata": {},
     "output_type": "display_data"
    }
   ],
   "execution_count": 60
  },
  {
   "metadata": {
    "ExecuteTime": {
     "end_time": "2025-02-22T06:01:47.904402Z",
     "start_time": "2025-02-22T06:01:47.898879Z"
    }
   },
   "cell_type": "code",
   "source": [
    "column_name = 'Pretax Income'\n",
    "bins = 10  # 設定級距數量\n",
    "\n",
    "# 先移除 NaN 值\n",
    "filtered_data = cleaned_data[column_name].dropna()\n",
    "\n",
    "# 確保至少有數據\n",
    "if not filtered_data.empty:\n",
    "    counts, bin_edges = np.histogram(filtered_data, bins=bins)\n",
    "\n",
    "    # 建立 DataFrame 來顯示結果\n",
    "    bin_df = pd.DataFrame({\n",
    "        '級距範圍': [f\"{bin_edges[i]:.2f} ~ {bin_edges[i+1]:.2f}\" for i in range(len(bin_edges)-1)],\n",
    "        '資料筆數': counts\n",
    "    })\n",
    "\n",
    "    print(bin_df)\n",
    "else:\n",
    "    print(\"無有效數據可用，請確認資料內容。\")"
   ],
   "outputs": [
    {
     "name": "stdout",
     "output_type": "stream",
     "text": [
      "                     級距範圍    資料筆數\n",
      "0  -108761.00 ~ -87579.80       2\n",
      "1   -87579.80 ~ -66398.60       2\n",
      "2   -66398.60 ~ -45217.40       5\n",
      "3   -45217.40 ~ -24036.20      16\n",
      "4    -24036.20 ~ -2855.00     420\n",
      "5     -2855.00 ~ 18326.20  175652\n",
      "6     18326.20 ~ 39507.40     294\n",
      "7     39507.40 ~ 60688.60      22\n",
      "8     60688.60 ~ 81869.80       6\n",
      "9    81869.80 ~ 103051.00       2\n"
     ]
    }
   ],
   "execution_count": 61
  },
  {
   "metadata": {},
   "cell_type": "markdown",
   "source": [
    "預執行策略:\n",
    "\n",
    "同上"
   ]
  },
  {
   "metadata": {},
   "cell_type": "markdown",
   "source": "##### Special Items欄位分析"
  },
  {
   "metadata": {
    "ExecuteTime": {
     "end_time": "2025-02-22T06:01:48.101865Z",
     "start_time": "2025-02-22T06:01:47.918967Z"
    }
   },
   "cell_type": "code",
   "source": [
    "column_name = 'Special Items'\n",
    "\n",
    "# 計算偏態係數\n",
    "skewness = cleaned_data[column_name].skew()\n",
    "\n",
    "# 繪製直方圖與密度圖\n",
    "plt.figure(figsize=(8, 5))\n",
    "sns.histplot(cleaned_data[column_name], kde=True, bins=30, color='blue')\n",
    "\n",
    "# 添加標題與偏態係數\n",
    "plt.title(f'{column_name} (Skewness = {skewness:.2f})')\n",
    "plt.xlabel(column_name)\n",
    "plt.ylabel('頻數')\n",
    "\n",
    "# 顯示圖表\n",
    "plt.show()"
   ],
   "outputs": [
    {
     "data": {
      "text/plain": [
       "<Figure size 800x500 with 1 Axes>"
      ],
      "image/png": "[encoded data removed]"
     },
     "metadata": {},
     "output_type": "display_data"
    }
   ],
   "execution_count": 62
  },
  {
   "metadata": {
    "ExecuteTime": {
     "end_time": "2025-02-22T06:01:48.133809Z",
     "start_time": "2025-02-22T06:01:48.128400Z"
    }
   },
   "cell_type": "code",
   "source": [
    "column_name = 'Special Items'\n",
    "bins = 10  # 設定級距數量\n",
    "\n",
    "# 先移除 NaN 值\n",
    "filtered_data = cleaned_data[column_name].dropna()\n",
    "\n",
    "# 確保至少有數據\n",
    "if not filtered_data.empty:\n",
    "    counts, bin_edges = np.histogram(filtered_data, bins=bins)\n",
    "\n",
    "    # 建立 DataFrame 來顯示結果\n",
    "    bin_df = pd.DataFrame({\n",
    "        '級距範圍': [f\"{bin_edges[i]:.2f} ~ {bin_edges[i+1]:.2f}\" for i in range(len(bin_edges)-1)],\n",
    "        '資料筆數': counts\n",
    "    })\n",
    "\n",
    "    print(bin_df)\n",
    "else:\n",
    "    print(\"無有效數據可用，請確認資料內容。\")"
   ],
   "outputs": [
    {
     "name": "stdout",
     "output_type": "stream",
     "text": [
      "                    級距範圍    資料筆數\n",
      "0  -51066.20 ~ -33907.88       6\n",
      "1  -33907.88 ~ -16749.56      16\n",
      "2     -16749.56 ~ 408.76  174040\n",
      "3      408.76 ~ 17567.08     738\n",
      "4    17567.08 ~ 34725.40       7\n",
      "5    34725.40 ~ 51883.72       0\n",
      "6    51883.72 ~ 69042.04       0\n",
      "7    69042.04 ~ 86200.36       0\n",
      "8   86200.36 ~ 103358.68       0\n",
      "9  103358.68 ~ 120517.00       1\n"
     ]
    }
   ],
   "execution_count": 63
  },
  {
   "metadata": {},
   "cell_type": "markdown",
   "source": [
    "預執行策略:\n",
    "\n",
    "同上"
   ]
  },
  {
   "metadata": {},
   "cell_type": "markdown",
   "source": "##### Income Taxes Paid欄位分析"
  },
  {
   "metadata": {
    "ExecuteTime": {
     "end_time": "2025-02-22T06:01:48.312568Z",
     "start_time": "2025-02-22T06:01:48.138436Z"
    }
   },
   "cell_type": "code",
   "source": [
    "column_name = 'Income Taxes Paid'\n",
    "\n",
    "# 計算偏態係數\n",
    "skewness = cleaned_data[column_name].skew()\n",
    "\n",
    "# 繪製直方圖與密度圖\n",
    "plt.figure(figsize=(8, 5))\n",
    "sns.histplot(cleaned_data[column_name], kde=True, bins=30, color='blue')\n",
    "\n",
    "# 添加標題與偏態係數\n",
    "plt.title(f'{column_name} (Skewness = {skewness:.2f})')\n",
    "plt.xlabel(column_name)\n",
    "plt.ylabel('頻數')\n",
    "\n",
    "# 顯示圖表\n",
    "plt.show()"
   ],
   "outputs": [
    {
     "data": {
      "text/plain": [
       "<Figure size 800x500 with 1 Axes>"
      ],
      "image/png": "[encoded data removed]"
     },
     "metadata": {},
     "output_type": "display_data"
    }
   ],
   "execution_count": 64
  },
  {
   "metadata": {
    "ExecuteTime": {
     "end_time": "2025-02-22T06:01:48.333719Z",
     "start_time": "2025-02-22T06:01:48.328053Z"
    }
   },
   "cell_type": "code",
   "source": [
    "column_name = 'Income Taxes Paid'\n",
    "bins = 10  # 設定級距數量\n",
    "\n",
    "# 先移除 NaN 值\n",
    "filtered_data = cleaned_data[column_name].dropna()\n",
    "\n",
    "# 確保至少有數據\n",
    "if not filtered_data.empty:\n",
    "    counts, bin_edges = np.histogram(filtered_data, bins=bins)\n",
    "\n",
    "    # 建立 DataFrame 來顯示結果\n",
    "    bin_df = pd.DataFrame({\n",
    "        '級距範圍': [f\"{bin_edges[i]:.2f} ~ {bin_edges[i+1]:.2f}\" for i in range(len(bin_edges)-1)],\n",
    "        '資料筆數': counts\n",
    "    })\n",
    "\n",
    "    print(bin_df)\n",
    "else:\n",
    "    print(\"無有效數據可用，請確認資料內容。\")"
   ],
   "outputs": [
    {
     "name": "stdout",
     "output_type": "stream",
     "text": [
      "                    級距範圍    資料筆數\n",
      "0     -6318.00 ~ 8536.49  119720\n",
      "1     8536.49 ~ 23390.97      65\n",
      "2    23390.97 ~ 38245.46       8\n",
      "3    38245.46 ~ 53099.95       0\n",
      "4    53099.95 ~ 67954.43       0\n",
      "5    67954.43 ~ 82808.92       0\n",
      "6    82808.92 ~ 97663.41       0\n",
      "7   97663.41 ~ 112517.89       0\n",
      "8  112517.89 ~ 127372.38       0\n",
      "9  127372.38 ~ 142226.87       1\n"
     ]
    }
   ],
   "execution_count": 65
  },
  {
   "metadata": {},
   "cell_type": "markdown",
   "source": [
    "預執行策略:\n",
    "\n",
    "同上"
   ]
  },
  {
   "metadata": {},
   "cell_type": "markdown",
   "source": "##### Income Taxes - Total欄位分析"
  },
  {
   "metadata": {
    "ExecuteTime": {
     "end_time": "2025-02-22T06:01:48.546712Z",
     "start_time": "2025-02-22T06:01:48.355285Z"
    }
   },
   "cell_type": "code",
   "source": [
    "column_name = 'Income Taxes - Total'\n",
    "\n",
    "# 計算偏態係數\n",
    "skewness = cleaned_data[column_name].skew()\n",
    "\n",
    "# 繪製直方圖與密度圖\n",
    "plt.figure(figsize=(8, 5))\n",
    "sns.histplot(cleaned_data[column_name], kde=True, bins=30, color='blue')\n",
    "\n",
    "# 添加標題與偏態係數\n",
    "plt.title(f'{column_name} (Skewness = {skewness:.2f})')\n",
    "plt.xlabel(column_name)\n",
    "plt.ylabel('頻數')\n",
    "\n",
    "# 顯示圖表\n",
    "plt.show()"
   ],
   "outputs": [
    {
     "data": {
      "text/plain": [
       "<Figure size 800x500 with 1 Axes>"
      ],
      "image/png": "[encoded data removed]"
     },
     "metadata": {},
     "output_type": "display_data"
    }
   ],
   "execution_count": 66
  },
  {
   "metadata": {
    "ExecuteTime": {
     "end_time": "2025-02-22T06:01:48.568680Z",
     "start_time": "2025-02-22T06:01:48.562925Z"
    }
   },
   "cell_type": "code",
   "source": [
    "column_name = 'Income Taxes Paid'\n",
    "bins = 10  # 設定級距數量\n",
    "\n",
    "# 先移除 NaN 值\n",
    "filtered_data = cleaned_data[column_name].dropna()\n",
    "\n",
    "# 確保至少有數據\n",
    "if not filtered_data.empty:\n",
    "    counts, bin_edges = np.histogram(filtered_data, bins=bins)\n",
    "\n",
    "    # 建立 DataFrame 來顯示結果\n",
    "    bin_df = pd.DataFrame({\n",
    "        '級距範圍': [f\"{bin_edges[i]:.2f} ~ {bin_edges[i+1]:.2f}\" for i in range(len(bin_edges)-1)],\n",
    "        '資料筆數': counts\n",
    "    })\n",
    "\n",
    "    print(bin_df)\n",
    "else:\n",
    "    print(\"無有效數據可用，請確認資料內容。\")"
   ],
   "outputs": [
    {
     "name": "stdout",
     "output_type": "stream",
     "text": [
      "                    級距範圍    資料筆數\n",
      "0     -6318.00 ~ 8536.49  119720\n",
      "1     8536.49 ~ 23390.97      65\n",
      "2    23390.97 ~ 38245.46       8\n",
      "3    38245.46 ~ 53099.95       0\n",
      "4    53099.95 ~ 67954.43       0\n",
      "5    67954.43 ~ 82808.92       0\n",
      "6    82808.92 ~ 97663.41       0\n",
      "7   97663.41 ~ 112517.89       0\n",
      "8  112517.89 ~ 127372.38       0\n",
      "9  127372.38 ~ 142226.87       1\n"
     ]
    }
   ],
   "execution_count": 67
  },
  {
   "metadata": {},
   "cell_type": "markdown",
   "source": [
    "預執行策略:\n",
    "\n",
    "同上"
   ]
  },
  {
   "metadata": {},
   "cell_type": "markdown",
   "source": "### 資料分析(處理後)"
  },
  {
   "metadata": {},
   "cell_type": "markdown",
   "source": "執行先前擬訂的策略，進行資料處理。"
  },
  {
   "metadata": {},
   "cell_type": "markdown",
   "source": "#### 補缺失值(多重差補)"
  },
  {
   "metadata": {},
   "cell_type": "markdown",
   "source": "補缺失值"
  },
  {
   "metadata": {
    "ExecuteTime": {
     "end_time": "2025-02-22T06:01:49.310916Z",
     "start_time": "2025-02-22T06:01:48.587991Z"
    }
   },
   "cell_type": "code",
   "source": [
    "na_cols = ['Income Taxes Paid', 'Capital Expenditures', 'Operating Activities - Net Cash Flow', 'Common Shares Outstanding', 'Special Items', 'Income Taxes - Total', 'Pretax Income', 'Assets - Total']\n",
    "\n",
    "# 取出數值型 DataFrame\n",
    "df_num = cleaned_data[na_cols].copy()\n",
    "\n",
    "# 使用 IterativeImputer 進行插補\n",
    "imputer = IterativeImputer(\n",
    "    estimator=BayesianRidge(),\n",
    "    max_iter=10,\n",
    "    random_state=42\n",
    ")\n",
    "imputed_array = imputer.fit_transform(df_num)\n",
    "df_imputed = pd.DataFrame(imputed_array, columns=df_num.columns)\n",
    "\n",
    "# 將補好的欄位放回原 DataFrame\n",
    "for c in na_cols:\n",
    "    cleaned_data[c] = df_imputed[c]\n"
   ],
   "outputs": [],
   "execution_count": 68
  },
  {
   "metadata": {
    "ExecuteTime": {
     "end_time": "2025-02-22T06:01:49.361271Z",
     "start_time": "2025-02-22T06:01:49.324972Z"
    }
   },
   "cell_type": "code",
   "source": [
    "print(\"\\n[各欄位缺失值統計]\")\n",
    "missing_count = cleaned_data.isnull().sum()\n",
    "missing_ratio = (missing_count / len(cleaned_data)) * 100\n",
    "missing_df = pd.DataFrame({\n",
    "    'Missing Values': missing_count,\n",
    "    'Missing Ratio (%)': missing_ratio\n",
    "}).sort_values(by='Missing Values', ascending=False)\n",
    "display(missing_df)"
   ],
   "outputs": [
    {
     "name": "stdout",
     "output_type": "stream",
     "text": [
      "\n",
      "[各欄位缺失值統計]\n"
     ]
    },
    {
     "data": {
      "text/plain": [
       "                                                    Missing Values  \\\n",
       "CUSIP                                                          717   \n",
       "Ticker Symbol                                                  110   \n",
       "Global Company Key                                               0   \n",
       "Capital Expenditures                                             0   \n",
       "Active/Inactive Status Marker                                    0   \n",
       "Income Taxes - Total                                             0   \n",
       "Income Taxes Paid                                                0   \n",
       "Special Items                                                    0   \n",
       "Pretax Income                                                    0   \n",
       "Operating Activities - Net Cash Flow                             0   \n",
       "Common Shares Outstanding                                        0   \n",
       "ISO Currency Code                                                0   \n",
       "Assets - Total                                                   0   \n",
       "Data Date                                                        0   \n",
       "Company Name                                                     0   \n",
       "Data Format                                                      0   \n",
       "Population Source                                                0   \n",
       "Level of Consolidation - Company Annual Descriptor               0   \n",
       "Industry Format                                                  0   \n",
       "Data Year - Fiscal                                               0   \n",
       "year                                                             0   \n",
       "\n",
       "                                                    Missing Ratio (%)  \n",
       "CUSIP                                                         0.34716  \n",
       "Ticker Symbol                                                 0.05326  \n",
       "Global Company Key                                            0.00000  \n",
       "Capital Expenditures                                          0.00000  \n",
       "Active/Inactive Status Marker                                 0.00000  \n",
       "Income Taxes - Total                                          0.00000  \n",
       "Income Taxes Paid                                             0.00000  \n",
       "Special Items                                                 0.00000  \n",
       "Pretax Income                                                 0.00000  \n",
       "Operating Activities - Net Cash Flow                          0.00000  \n",
       "Common Shares Outstanding                                     0.00000  \n",
       "ISO Currency Code                                             0.00000  \n",
       "Assets - Total                                                0.00000  \n",
       "Data Date                                                     0.00000  \n",
       "Company Name                                                  0.00000  \n",
       "Data Format                                                   0.00000  \n",
       "Population Source                                             0.00000  \n",
       "Level of Consolidation - Company Annual Descriptor            0.00000  \n",
       "Industry Format                                               0.00000  \n",
       "Data Year - Fiscal                                            0.00000  \n",
       "year                                                          0.00000  "
      ],
      "text/html": [
       "<div>\n",
       "<style scoped>\n",
       "    .dataframe tbody tr th:only-of-type {\n",
       "        vertical-align: middle;\n",
       "    }\n",
       "\n",
       "    .dataframe tbody tr th {\n",
       "        vertical-align: top;\n",
       "    }\n",
       "\n",
       "    .dataframe thead th {\n",
       "        text-align: right;\n",
       "    }\n",
       "</style>\n",
       "<table border=\"1\" class=\"dataframe\">\n",
       "  <thead>\n",
       "    <tr style=\"text-align: right;\">\n",
       "      <th></th>\n",
       "      <th>Missing Values</th>\n",
       "      <th>Missing Ratio (%)</th>\n",
       "    </tr>\n",
       "  </thead>\n",
       "  <tbody>\n",
       "    <tr>\n",
       "      <th>CUSIP</th>\n",
       "      <td>717</td>\n",
       "      <td>0.34716</td>\n",
       "    </tr>\n",
       "    <tr>\n",
       "      <th>Ticker Symbol</th>\n",
       "      <td>110</td>\n",
       "      <td>0.05326</td>\n",
       "    </tr>\n",
       "    <tr>\n",
       "      <th>Global Company Key</th>\n",
       "      <td>0</td>\n",
       "      <td>0.00000</td>\n",
       "    </tr>\n",
       "    <tr>\n",
       "      <th>Capital Expenditures</th>\n",
       "      <td>0</td>\n",
       "      <td>0.00000</td>\n",
       "    </tr>\n",
       "    <tr>\n",
       "      <th>Active/Inactive Status Marker</th>\n",
       "      <td>0</td>\n",
       "      <td>0.00000</td>\n",
       "    </tr>\n",
       "    <tr>\n",
       "      <th>Income Taxes - Total</th>\n",
       "      <td>0</td>\n",
       "      <td>0.00000</td>\n",
       "    </tr>\n",
       "    <tr>\n",
       "      <th>Income Taxes Paid</th>\n",
       "      <td>0</td>\n",
       "      <td>0.00000</td>\n",
       "    </tr>\n",
       "    <tr>\n",
       "      <th>Special Items</th>\n",
       "      <td>0</td>\n",
       "      <td>0.00000</td>\n",
       "    </tr>\n",
       "    <tr>\n",
       "      <th>Pretax Income</th>\n",
       "      <td>0</td>\n",
       "      <td>0.00000</td>\n",
       "    </tr>\n",
       "    <tr>\n",
       "      <th>Operating Activities - Net Cash Flow</th>\n",
       "      <td>0</td>\n",
       "      <td>0.00000</td>\n",
       "    </tr>\n",
       "    <tr>\n",
       "      <th>Common Shares Outstanding</th>\n",
       "      <td>0</td>\n",
       "      <td>0.00000</td>\n",
       "    </tr>\n",
       "    <tr>\n",
       "      <th>ISO Currency Code</th>\n",
       "      <td>0</td>\n",
       "      <td>0.00000</td>\n",
       "    </tr>\n",
       "    <tr>\n",
       "      <th>Assets - Total</th>\n",
       "      <td>0</td>\n",
       "      <td>0.00000</td>\n",
       "    </tr>\n",
       "    <tr>\n",
       "      <th>Data Date</th>\n",
       "      <td>0</td>\n",
       "      <td>0.00000</td>\n",
       "    </tr>\n",
       "    <tr>\n",
       "      <th>Company Name</th>\n",
       "      <td>0</td>\n",
       "      <td>0.00000</td>\n",
       "    </tr>\n",
       "    <tr>\n",
       "      <th>Data Format</th>\n",
       "      <td>0</td>\n",
       "      <td>0.00000</td>\n",
       "    </tr>\n",
       "    <tr>\n",
       "      <th>Population Source</th>\n",
       "      <td>0</td>\n",
       "      <td>0.00000</td>\n",
       "    </tr>\n",
       "    <tr>\n",
       "      <th>Level of Consolidation - Company Annual Descriptor</th>\n",
       "      <td>0</td>\n",
       "      <td>0.00000</td>\n",
       "    </tr>\n",
       "    <tr>\n",
       "      <th>Industry Format</th>\n",
       "      <td>0</td>\n",
       "      <td>0.00000</td>\n",
       "    </tr>\n",
       "    <tr>\n",
       "      <th>Data Year - Fiscal</th>\n",
       "      <td>0</td>\n",
       "      <td>0.00000</td>\n",
       "    </tr>\n",
       "    <tr>\n",
       "      <th>year</th>\n",
       "      <td>0</td>\n",
       "      <td>0.00000</td>\n",
       "    </tr>\n",
       "  </tbody>\n",
       "</table>\n",
       "</div>"
      ]
     },
     "metadata": {},
     "output_type": "display_data"
    }
   ],
   "execution_count": 69
  },
  {
   "metadata": {},
   "cell_type": "markdown",
   "source": "#### 刪除異常值"
  },
  {
   "metadata": {},
   "cell_type": "markdown",
   "source": "`Capital Expenditures`, `Income Taxes Paid`, `Income Taxes - Total`: 最小值有負值，這是不合理的，刪除<0的資料"
  },
  {
   "metadata": {
    "ExecuteTime": {
     "end_time": "2025-02-22T06:01:49.419417Z",
     "start_time": "2025-02-22T06:01:49.376707Z"
    }
   },
   "cell_type": "code",
   "source": [
    "cleaned_data = cleaned_data[cleaned_data['Capital Expenditures'] > 0]\n",
    "cleaned_data = cleaned_data[cleaned_data['Income Taxes Paid'] > 0]\n",
    "cleaned_data = cleaned_data[cleaned_data['Income Taxes - Total'] > 0]"
   ],
   "outputs": [],
   "execution_count": 70
  },
  {
   "metadata": {
    "ExecuteTime": {
     "end_time": "2025-02-22T06:01:49.483300Z",
     "start_time": "2025-02-22T06:01:49.451173Z"
    }
   },
   "cell_type": "code",
   "source": [
    "print(\"\\n[欄位統計描述]\")\n",
    "cols = ['Assets - Total', 'Capital Expenditures', 'Common Shares Outstanding', 'Operating Activities - Net Cash Flow', 'Pretax Income', 'Special Items', 'Income Taxes Paid', 'Income Taxes - Total']\n",
    "display(cleaned_data[cols].describe())"
   ],
   "outputs": [
    {
     "name": "stdout",
     "output_type": "stream",
     "text": [
      "\n",
      "[欄位統計描述]\n"
     ]
    },
    {
     "data": {
      "text/plain": [
       "       Assets - Total  Capital Expenditures  Common Shares Outstanding  \\\n",
       "count    1.303550e+05         130355.000000              130355.000000   \n",
       "mean     1.576340e+04            286.562800                 150.522543   \n",
       "std      1.096170e+05           1288.110686                 838.406758   \n",
       "min      0.000000e+00              0.001000                -704.637332   \n",
       "25%      3.297930e+02             10.184000                   9.150000   \n",
       "50%      1.717409e+03             85.878371                  35.808000   \n",
       "75%      7.211822e+03            173.201074                  91.004623   \n",
       "max      3.771200e+06          50233.741000               91345.817000   \n",
       "\n",
       "       Operating Activities - Net Cash Flow  Pretax Income  Special Items  \\\n",
       "count                         130355.000000  130355.000000  130355.000000   \n",
       "mean                             546.546350     403.347165     -26.432263   \n",
       "std                             2662.242955    1866.607370     397.446169   \n",
       "min                           -75741.432000  -44156.000000  -45873.000000   \n",
       "25%                               24.500500       7.920500     -19.959507   \n",
       "50%                              125.143371      78.576000      -0.500000   \n",
       "75%                              304.520364     204.295000       0.000000   \n",
       "max                           166671.531000   83397.000000   24922.000000   \n",
       "\n",
       "       Income Taxes Paid  Income Taxes - Total  \n",
       "count      130355.000000         130355.000000  \n",
       "mean          115.155552            128.935459  \n",
       "std           686.311060            631.461154  \n",
       "min             0.001000              0.001000  \n",
       "25%             3.245000              2.821000  \n",
       "50%            19.800000             25.427000  \n",
       "75%            59.267701             65.523343  \n",
       "max        142226.866000          37162.000000  "
      ],
      "text/html": [
       "<div>\n",
       "<style scoped>\n",
       "    .dataframe tbody tr th:only-of-type {\n",
       "        vertical-align: middle;\n",
       "    }\n",
       "\n",
       "    .dataframe tbody tr th {\n",
       "        vertical-align: top;\n",
       "    }\n",
       "\n",
       "    .dataframe thead th {\n",
       "        text-align: right;\n",
       "    }\n",
       "</style>\n",
       "<table border=\"1\" class=\"dataframe\">\n",
       "  <thead>\n",
       "    <tr style=\"text-align: right;\">\n",
       "      <th></th>\n",
       "      <th>Assets - Total</th>\n",
       "      <th>Capital Expenditures</th>\n",
       "      <th>Common Shares Outstanding</th>\n",
       "      <th>Operating Activities - Net Cash Flow</th>\n",
       "      <th>Pretax Income</th>\n",
       "      <th>Special Items</th>\n",
       "      <th>Income Taxes Paid</th>\n",
       "      <th>Income Taxes - Total</th>\n",
       "    </tr>\n",
       "  </thead>\n",
       "  <tbody>\n",
       "    <tr>\n",
       "      <th>count</th>\n",
       "      <td>1.303550e+05</td>\n",
       "      <td>130355.000000</td>\n",
       "      <td>130355.000000</td>\n",
       "      <td>130355.000000</td>\n",
       "      <td>130355.000000</td>\n",
       "      <td>130355.000000</td>\n",
       "      <td>130355.000000</td>\n",
       "      <td>130355.000000</td>\n",
       "    </tr>\n",
       "    <tr>\n",
       "      <th>mean</th>\n",
       "      <td>1.576340e+04</td>\n",
       "      <td>286.562800</td>\n",
       "      <td>150.522543</td>\n",
       "      <td>546.546350</td>\n",
       "      <td>403.347165</td>\n",
       "      <td>-26.432263</td>\n",
       "      <td>115.155552</td>\n",
       "      <td>128.935459</td>\n",
       "    </tr>\n",
       "    <tr>\n",
       "      <th>std</th>\n",
       "      <td>1.096170e+05</td>\n",
       "      <td>1288.110686</td>\n",
       "      <td>838.406758</td>\n",
       "      <td>2662.242955</td>\n",
       "      <td>1866.607370</td>\n",
       "      <td>397.446169</td>\n",
       "      <td>686.311060</td>\n",
       "      <td>631.461154</td>\n",
       "    </tr>\n",
       "    <tr>\n",
       "      <th>min</th>\n",
       "      <td>0.000000e+00</td>\n",
       "      <td>0.001000</td>\n",
       "      <td>-704.637332</td>\n",
       "      <td>-75741.432000</td>\n",
       "      <td>-44156.000000</td>\n",
       "      <td>-45873.000000</td>\n",
       "      <td>0.001000</td>\n",
       "      <td>0.001000</td>\n",
       "    </tr>\n",
       "    <tr>\n",
       "      <th>25%</th>\n",
       "      <td>3.297930e+02</td>\n",
       "      <td>10.184000</td>\n",
       "      <td>9.150000</td>\n",
       "      <td>24.500500</td>\n",
       "      <td>7.920500</td>\n",
       "      <td>-19.959507</td>\n",
       "      <td>3.245000</td>\n",
       "      <td>2.821000</td>\n",
       "    </tr>\n",
       "    <tr>\n",
       "      <th>50%</th>\n",
       "      <td>1.717409e+03</td>\n",
       "      <td>85.878371</td>\n",
       "      <td>35.808000</td>\n",
       "      <td>125.143371</td>\n",
       "      <td>78.576000</td>\n",
       "      <td>-0.500000</td>\n",
       "      <td>19.800000</td>\n",
       "      <td>25.427000</td>\n",
       "    </tr>\n",
       "    <tr>\n",
       "      <th>75%</th>\n",
       "      <td>7.211822e+03</td>\n",
       "      <td>173.201074</td>\n",
       "      <td>91.004623</td>\n",
       "      <td>304.520364</td>\n",
       "      <td>204.295000</td>\n",
       "      <td>0.000000</td>\n",
       "      <td>59.267701</td>\n",
       "      <td>65.523343</td>\n",
       "    </tr>\n",
       "    <tr>\n",
       "      <th>max</th>\n",
       "      <td>3.771200e+06</td>\n",
       "      <td>50233.741000</td>\n",
       "      <td>91345.817000</td>\n",
       "      <td>166671.531000</td>\n",
       "      <td>83397.000000</td>\n",
       "      <td>24922.000000</td>\n",
       "      <td>142226.866000</td>\n",
       "      <td>37162.000000</td>\n",
       "    </tr>\n",
       "  </tbody>\n",
       "</table>\n",
       "</div>"
      ]
     },
     "metadata": {},
     "output_type": "display_data"
    }
   ],
   "execution_count": 71
  },
  {
   "metadata": {},
   "cell_type": "markdown",
   "source": "#### Robust Scaler特徵縮放"
  },
  {
   "metadata": {
    "ExecuteTime": {
     "end_time": "2025-02-22T06:01:49.531698Z",
     "start_time": "2025-02-22T06:01:49.500045Z"
    }
   },
   "cell_type": "code",
   "source": [
    "rs = RobustScaler()\n",
    "\n",
    "# 選定需要縮放的欄位\n",
    "n_cols = [\n",
    "    'Assets - Total', 'Capital Expenditures', 'Common Shares Outstanding',\n",
    "    'Operating Activities - Net Cash Flow', 'Pretax Income', 'Special Items',\n",
    "    'Income Taxes Paid', 'Income Taxes - Total'\n",
    "]\n",
    "\n",
    "# 只取這些欄位的 DataFrame（2D）\n",
    "df_n = cleaned_data[n_cols]\n",
    "\n",
    "# fit_transform\n",
    "scaled_values = rs.fit_transform(df_n)\n",
    "\n",
    "# 把回傳的 numpy array 轉回 DataFrame，欄位同樣命名\n",
    "df_scaled = pd.DataFrame(scaled_values, columns=n_cols, index=df_n.index)\n",
    "\n",
    "# 放回原 DataFrame\n",
    "cleaned_data[n_cols] = df_scaled"
   ],
   "outputs": [],
   "execution_count": 72
  },
  {
   "metadata": {
    "ExecuteTime": {
     "end_time": "2025-02-22T06:01:49.697168Z",
     "start_time": "2025-02-22T06:01:49.547278Z"
    }
   },
   "cell_type": "code",
   "source": [
    "column_name = 'Assets - Total'\n",
    "\n",
    "# 計算偏態係數\n",
    "skewness = cleaned_data[column_name].skew()\n",
    "\n",
    "# 繪製直方圖與密度圖\n",
    "plt.figure(figsize=(8, 5))\n",
    "sns.histplot(cleaned_data[column_name], kde=True, bins=30, color='blue')\n",
    "\n",
    "# 添加標題與偏態係數\n",
    "plt.title(f'{column_name} (Skewness = {skewness:.2f})')\n",
    "plt.xlabel(column_name)\n",
    "plt.ylabel('頻數')\n",
    "\n",
    "# 顯示圖表\n",
    "plt.show()"
   ],
   "outputs": [
    {
     "data": {
      "text/plain": [
       "<Figure size 800x500 with 1 Axes>"
      ],
      "image/png": "[encoded data removed]"
     },
     "metadata": {},
     "output_type": "display_data"
    }
   ],
   "execution_count": 73
  },
  {
   "metadata": {
    "ExecuteTime": {
     "end_time": "2025-02-22T06:01:49.872832Z",
     "start_time": "2025-02-22T06:01:49.729119Z"
    }
   },
   "cell_type": "code",
   "source": [
    "column_name = 'Capital Expenditures'\n",
    "\n",
    "# 計算偏態係數\n",
    "skewness = cleaned_data[column_name].skew()\n",
    "\n",
    "# 繪製直方圖與密度圖\n",
    "plt.figure(figsize=(8, 5))\n",
    "sns.histplot(cleaned_data[column_name], kde=True, bins=30, color='blue')\n",
    "\n",
    "# 添加標題與偏態係數\n",
    "plt.title(f'{column_name} (Skewness = {skewness:.2f})')\n",
    "plt.xlabel(column_name)\n",
    "plt.ylabel('頻數')\n",
    "\n",
    "# 顯示圖表\n",
    "plt.show()"
   ],
   "outputs": [
    {
     "data": {
      "text/plain": [
       "<Figure size 800x500 with 1 Axes>"
      ],
      "image/png": "[encoded data removed]"
     },
     "metadata": {},
     "output_type": "display_data"
    }
   ],
   "execution_count": 74
  },
  {
   "metadata": {
    "ExecuteTime": {
     "end_time": "2025-02-22T06:01:50.016675Z",
     "start_time": "2025-02-22T06:01:49.875839Z"
    }
   },
   "cell_type": "code",
   "source": [
    "column_name = 'Common Shares Outstanding'\n",
    "\n",
    "# 計算偏態係數\n",
    "skewness = cleaned_data[column_name].skew()\n",
    "\n",
    "# 繪製直方圖與密度圖\n",
    "plt.figure(figsize=(8, 5))\n",
    "sns.histplot(cleaned_data[column_name], kde=True, bins=30, color='blue')\n",
    "\n",
    "# 添加標題與偏態係數\n",
    "plt.title(f'{column_name} (Skewness = {skewness:.2f})')\n",
    "plt.xlabel(column_name)\n",
    "plt.ylabel('頻數')\n",
    "\n",
    "# 顯示圖表\n",
    "plt.show()"
   ],
   "outputs": [
    {
     "data": {
      "text/plain": [
       "<Figure size 800x500 with 1 Axes>"
      ],
      "image/png": "[encoded data removed]"
     },
     "metadata": {},
     "output_type": "display_data"
    }
   ],
   "execution_count": 75
  },
  {
   "metadata": {
    "ExecuteTime": {
     "end_time": "2025-02-22T06:01:50.174662Z",
     "start_time": "2025-02-22T06:01:50.032371Z"
    }
   },
   "cell_type": "code",
   "source": [
    "column_name = 'Operating Activities - Net Cash Flow'\n",
    "\n",
    "# 計算偏態係數\n",
    "skewness = cleaned_data[column_name].skew()\n",
    "\n",
    "# 繪製直方圖與密度圖\n",
    "plt.figure(figsize=(8, 5))\n",
    "sns.histplot(cleaned_data[column_name], kde=True, bins=30, color='blue')\n",
    "\n",
    "# 添加標題與偏態係數\n",
    "plt.title(f'{column_name} (Skewness = {skewness:.2f})')\n",
    "plt.xlabel(column_name)\n",
    "plt.ylabel('頻數')\n",
    "\n",
    "# 顯示圖表\n",
    "plt.show()"
   ],
   "outputs": [
    {
     "data": {
      "text/plain": [
       "<Figure size 800x500 with 1 Axes>"
      ],
      "image/png": "[encoded data removed]"
     },
     "metadata": {},
     "output_type": "display_data"
    }
   ],
   "execution_count": 76
  },
  {
   "metadata": {
    "ExecuteTime": {
     "end_time": "2025-02-22T06:01:50.334719Z",
     "start_time": "2025-02-22T06:01:50.189432Z"
    }
   },
   "cell_type": "code",
   "source": [
    "column_name = 'Pretax Income'\n",
    "\n",
    "# 計算偏態係數\n",
    "skewness = cleaned_data[column_name].skew()\n",
    "\n",
    "# 繪製直方圖與密度圖\n",
    "plt.figure(figsize=(8, 5))\n",
    "sns.histplot(cleaned_data[column_name], kde=True, bins=30, color='blue')\n",
    "\n",
    "# 添加標題與偏態係數\n",
    "plt.title(f'{column_name} (Skewness = {skewness:.2f})')\n",
    "plt.xlabel(column_name)\n",
    "plt.ylabel('頻數')\n",
    "\n",
    "# 顯示圖表\n",
    "plt.show()"
   ],
   "outputs": [
    {
     "data": {
      "text/plain": [
       "<Figure size 800x500 with 1 Axes>"
      ],
      "image/png": "[encoded data removed]"
     },
     "metadata": {},
     "output_type": "display_data"
    }
   ],
   "execution_count": 77
  },
  {
   "metadata": {
    "ExecuteTime": {
     "end_time": "2025-02-22T06:01:50.492086Z",
     "start_time": "2025-02-22T06:01:50.349310Z"
    }
   },
   "cell_type": "code",
   "source": [
    "column_name = 'Special Items'\n",
    "\n",
    "# 計算偏態係數\n",
    "skewness = cleaned_data[column_name].skew()\n",
    "\n",
    "# 繪製直方圖與密度圖\n",
    "plt.figure(figsize=(8, 5))\n",
    "sns.histplot(cleaned_data[column_name], kde=True, bins=30, color='blue')\n",
    "\n",
    "# 添加標題與偏態係數\n",
    "plt.title(f'{column_name} (Skewness = {skewness:.2f})')\n",
    "plt.xlabel(column_name)\n",
    "plt.ylabel('頻數')\n",
    "\n",
    "# 顯示圖表\n",
    "plt.show()"
   ],
   "outputs": [
    {
     "data": {
      "text/plain": [
       "<Figure size 800x500 with 1 Axes>"
      ],
      "image/png": "[encoded data removed]"
     },
     "metadata": {},
     "output_type": "display_data"
    }
   ],
   "execution_count": 78
  },
  {
   "metadata": {
    "ExecuteTime": {
     "end_time": "2025-02-22T06:01:50.644593Z",
     "start_time": "2025-02-22T06:01:50.507922Z"
    }
   },
   "cell_type": "code",
   "source": [
    "column_name = 'Income Taxes Paid'\n",
    "\n",
    "# 計算偏態係數\n",
    "skewness = cleaned_data[column_name].skew()\n",
    "\n",
    "# 繪製直方圖與密度圖\n",
    "plt.figure(figsize=(8, 5))\n",
    "sns.histplot(cleaned_data[column_name], kde=True, bins=30, color='blue')\n",
    "\n",
    "# 添加標題與偏態係數\n",
    "plt.title(f'{column_name} (Skewness = {skewness:.2f})')\n",
    "plt.xlabel(column_name)\n",
    "plt.ylabel('頻數')\n",
    "\n",
    "# 顯示圖表\n",
    "plt.show()"
   ],
   "outputs": [
    {
     "data": {
      "text/plain": [
       "<Figure size 800x500 with 1 Axes>"
      ],
      "image/png": "[encoded data removed]"
     },
     "metadata": {},
     "output_type": "display_data"
    }
   ],
   "execution_count": 79
  },
  {
   "metadata": {
    "ExecuteTime": {
     "end_time": "2025-02-22T06:01:50.804273Z",
     "start_time": "2025-02-22T06:01:50.659524Z"
    }
   },
   "cell_type": "code",
   "source": [
    "column_name = 'Income Taxes - Total'\n",
    "\n",
    "# 計算偏態係數\n",
    "skewness = cleaned_data[column_name].skew()\n",
    "\n",
    "# 繪製直方圖與密度圖\n",
    "plt.figure(figsize=(8, 5))\n",
    "sns.histplot(cleaned_data[column_name], kde=True, bins=30, color='blue')\n",
    "\n",
    "# 添加標題與偏態係數\n",
    "plt.title(f'{column_name} (Skewness = {skewness:.2f})')\n",
    "plt.xlabel(column_name)\n",
    "plt.ylabel('頻數')\n",
    "\n",
    "# 顯示圖表\n",
    "plt.show()"
   ],
   "outputs": [
    {
     "data": {
      "text/plain": [
       "<Figure size 800x500 with 1 Axes>"
      ],
      "image/png": "[encoded data removed]"
     },
     "metadata": {},
     "output_type": "display_data"
    }
   ],
   "execution_count": 80
  },
  {
   "metadata": {},
   "cell_type": "markdown",
   "source": "## 特徵工程"
  },
  {
   "metadata": {},
   "cell_type": "markdown",
   "source": "### OneHot encoding"
  },
  {
   "metadata": {},
   "cell_type": "markdown",
   "source": "將產業分類轉作onehot encoding"
  },
  {
   "metadata": {
    "ExecuteTime": {
     "end_time": "2025-02-22T06:01:50.840258Z",
     "start_time": "2025-02-22T06:01:50.819441Z"
    }
   },
   "cell_type": "code",
   "source": [
    "cleaned_data = pd.get_dummies(\n",
    "    cleaned_data,\n",
    "    columns=['Industry Format'],\n",
    "    drop_first=True,\n",
    "    dtype=int\n",
    ")"
   ],
   "outputs": [],
   "execution_count": 81
  },
  {
   "metadata": {
    "ExecuteTime": {
     "end_time": "2025-02-22T06:01:50.860065Z",
     "start_time": "2025-02-22T06:01:50.854389Z"
    }
   },
   "cell_type": "code",
   "source": "cleaned_data.head()",
   "outputs": [
    {
     "data": {
      "text/plain": [
       "   Global Company Key   Data Date  Data Year - Fiscal  \\\n",
       "0                1004  1999/05/31                1998   \n",
       "1                1010  1998/12/31                1998   \n",
       "2                1013  1998/10/31                1998   \n",
       "3                1019  1998/12/31                1998   \n",
       "4                1021  1998/06/30                1998   \n",
       "\n",
       "  Level of Consolidation - Company Annual Descriptor Population Source  \\\n",
       "0                                                  C                 D   \n",
       "1                                                  C                 D   \n",
       "2                                                  C                 D   \n",
       "3                                                  C                 D   \n",
       "4                                                  C                 D   \n",
       "\n",
       "  Data Format Ticker Symbol      CUSIP                 Company Name  \\\n",
       "0         STD           AIR     361105                     AAR CORP   \n",
       "1         STD         4165A  00099V004  ACF INDUSTRIES HOLDING CORP   \n",
       "2         STD          ADCT     886309   ADC TELECOMMUNICATIONS INC   \n",
       "3         STD          AFAP    1038108   AFA PROTECTIVE SYSTEMS INC   \n",
       "4         STD          IWKS    1058205             AFP IMAGING CORP   \n",
       "\n",
       "  ISO Currency Code  ...  Capital Expenditures  Common Shares Outstanding  \\\n",
       "0               USD  ...             -0.305167                  -0.102951   \n",
       "1               USD  ...              0.097055                  -0.437275   \n",
       "2               USD  ...              0.053188                   1.210549   \n",
       "3               USD  ...             -0.513654                  -0.435357   \n",
       "4               USD  ...             -0.523862                  -0.318125   \n",
       "\n",
       "   Operating Activities - Net Cash Flow  Pretax Income  Special Items  \\\n",
       "0                             -0.345041      -0.095685       0.025051   \n",
       "1                             -0.116932       0.153910       0.025051   \n",
       "2                             -0.153794       0.749374       0.025051   \n",
       "3                             -0.426557      -0.383965       0.025051   \n",
       "4                             -0.449259      -0.416755      -0.141336   \n",
       "\n",
       "   Income Taxes Paid  Income Taxes - Total  Active/Inactive Status Marker  \\\n",
       "0          -0.274889             -0.116614                              A   \n",
       "1           0.083895              0.254743                              I   \n",
       "2           0.990224              0.854514                              I   \n",
       "3          -0.332901             -0.381150                              I   \n",
       "4          -0.350536             -0.404498                              I   \n",
       "\n",
       "   year  Industry Format_INDL  \n",
       "0  1998                     1  \n",
       "1  1998                     1  \n",
       "2  1998                     1  \n",
       "3  1998                     1  \n",
       "4  1998                     1  \n",
       "\n",
       "[5 rows x 21 columns]"
      ],
      "text/html": [
       "<div>\n",
       "<style scoped>\n",
       "    .dataframe tbody tr th:only-of-type {\n",
       "        vertical-align: middle;\n",
       "    }\n",
       "\n",
       "    .dataframe tbody tr th {\n",
       "        vertical-align: top;\n",
       "    }\n",
       "\n",
       "    .dataframe thead th {\n",
       "        text-align: right;\n",
       "    }\n",
       "</style>\n",
       "<table border=\"1\" class=\"dataframe\">\n",
       "  <thead>\n",
       "    <tr style=\"text-align: right;\">\n",
       "      <th></th>\n",
       "      <th>Global Company Key</th>\n",
       "      <th>Data Date</th>\n",
       "      <th>Data Year - Fiscal</th>\n",
       "      <th>Level of Consolidation - Company Annual Descriptor</th>\n",
       "      <th>Population Source</th>\n",
       "      <th>Data Format</th>\n",
       "      <th>Ticker Symbol</th>\n",
       "      <th>CUSIP</th>\n",
       "      <th>Company Name</th>\n",
       "      <th>ISO Currency Code</th>\n",
       "      <th>...</th>\n",
       "      <th>Capital Expenditures</th>\n",
       "      <th>Common Shares Outstanding</th>\n",
       "      <th>Operating Activities - Net Cash Flow</th>\n",
       "      <th>Pretax Income</th>\n",
       "      <th>Special Items</th>\n",
       "      <th>Income Taxes Paid</th>\n",
       "      <th>Income Taxes - Total</th>\n",
       "      <th>Active/Inactive Status Marker</th>\n",
       "      <th>year</th>\n",
       "      <th>Industry Format_INDL</th>\n",
       "    </tr>\n",
       "  </thead>\n",
       "  <tbody>\n",
       "    <tr>\n",
       "      <th>0</th>\n",
       "      <td>1004</td>\n",
       "      <td>1999/05/31</td>\n",
       "      <td>1998</td>\n",
       "      <td>C</td>\n",
       "      <td>D</td>\n",
       "      <td>STD</td>\n",
       "      <td>AIR</td>\n",
       "      <td>361105</td>\n",
       "      <td>AAR CORP</td>\n",
       "      <td>USD</td>\n",
       "      <td>...</td>\n",
       "      <td>-0.305167</td>\n",
       "      <td>-0.102951</td>\n",
       "      <td>-0.345041</td>\n",
       "      <td>-0.095685</td>\n",
       "      <td>0.025051</td>\n",
       "      <td>-0.274889</td>\n",
       "      <td>-0.116614</td>\n",
       "      <td>A</td>\n",
       "      <td>1998</td>\n",
       "      <td>1</td>\n",
       "    </tr>\n",
       "    <tr>\n",
       "      <th>1</th>\n",
       "      <td>1010</td>\n",
       "      <td>1998/12/31</td>\n",
       "      <td>1998</td>\n",
       "      <td>C</td>\n",
       "      <td>D</td>\n",
       "      <td>STD</td>\n",
       "      <td>4165A</td>\n",
       "      <td>00099V004</td>\n",
       "      <td>ACF INDUSTRIES HOLDING CORP</td>\n",
       "      <td>USD</td>\n",
       "      <td>...</td>\n",
       "      <td>0.097055</td>\n",
       "      <td>-0.437275</td>\n",
       "      <td>-0.116932</td>\n",
       "      <td>0.153910</td>\n",
       "      <td>0.025051</td>\n",
       "      <td>0.083895</td>\n",
       "      <td>0.254743</td>\n",
       "      <td>I</td>\n",
       "      <td>1998</td>\n",
       "      <td>1</td>\n",
       "    </tr>\n",
       "    <tr>\n",
       "      <th>2</th>\n",
       "      <td>1013</td>\n",
       "      <td>1998/10/31</td>\n",
       "      <td>1998</td>\n",
       "      <td>C</td>\n",
       "      <td>D</td>\n",
       "      <td>STD</td>\n",
       "      <td>ADCT</td>\n",
       "      <td>886309</td>\n",
       "      <td>ADC TELECOMMUNICATIONS INC</td>\n",
       "      <td>USD</td>\n",
       "      <td>...</td>\n",
       "      <td>0.053188</td>\n",
       "      <td>1.210549</td>\n",
       "      <td>-0.153794</td>\n",
       "      <td>0.749374</td>\n",
       "      <td>0.025051</td>\n",
       "      <td>0.990224</td>\n",
       "      <td>0.854514</td>\n",
       "      <td>I</td>\n",
       "      <td>1998</td>\n",
       "      <td>1</td>\n",
       "    </tr>\n",
       "    <tr>\n",
       "      <th>3</th>\n",
       "      <td>1019</td>\n",
       "      <td>1998/12/31</td>\n",
       "      <td>1998</td>\n",
       "      <td>C</td>\n",
       "      <td>D</td>\n",
       "      <td>STD</td>\n",
       "      <td>AFAP</td>\n",
       "      <td>1038108</td>\n",
       "      <td>AFA PROTECTIVE SYSTEMS INC</td>\n",
       "      <td>USD</td>\n",
       "      <td>...</td>\n",
       "      <td>-0.513654</td>\n",
       "      <td>-0.435357</td>\n",
       "      <td>-0.426557</td>\n",
       "      <td>-0.383965</td>\n",
       "      <td>0.025051</td>\n",
       "      <td>-0.332901</td>\n",
       "      <td>-0.381150</td>\n",
       "      <td>I</td>\n",
       "      <td>1998</td>\n",
       "      <td>1</td>\n",
       "    </tr>\n",
       "    <tr>\n",
       "      <th>4</th>\n",
       "      <td>1021</td>\n",
       "      <td>1998/06/30</td>\n",
       "      <td>1998</td>\n",
       "      <td>C</td>\n",
       "      <td>D</td>\n",
       "      <td>STD</td>\n",
       "      <td>IWKS</td>\n",
       "      <td>1058205</td>\n",
       "      <td>AFP IMAGING CORP</td>\n",
       "      <td>USD</td>\n",
       "      <td>...</td>\n",
       "      <td>-0.523862</td>\n",
       "      <td>-0.318125</td>\n",
       "      <td>-0.449259</td>\n",
       "      <td>-0.416755</td>\n",
       "      <td>-0.141336</td>\n",
       "      <td>-0.350536</td>\n",
       "      <td>-0.404498</td>\n",
       "      <td>I</td>\n",
       "      <td>1998</td>\n",
       "      <td>1</td>\n",
       "    </tr>\n",
       "  </tbody>\n",
       "</table>\n",
       "<p>5 rows × 21 columns</p>\n",
       "</div>"
      ]
     },
     "execution_count": 82,
     "metadata": {},
     "output_type": "execute_result"
    }
   ],
   "execution_count": 82
  },
  {
   "metadata": {},
   "cell_type": "markdown",
   "source": "### 建立關鍵指標"
  },
  {
   "metadata": {},
   "cell_type": "markdown",
   "source": "#### BTD\n"
  },
  {
   "metadata": {},
   "cell_type": "markdown",
   "source": [
    "- Book-Tax Difference (BTD) = 稅前收入 - 總所得稅\n",
    "  - BTD 越高，代表企業可能有避稅行為。"
   ]
  },
  {
   "metadata": {},
   "cell_type": "markdown",
   "source": [
    "- BTD > 0：公司帳面看起來賺得多，但課稅基礎比較少，通常是利用各種稅務優惠、折舊與攤銷方法、永久性差異等，可能有較強的「避稅傾向」。\n",
    "- BTD = 0：帳面與稅務基本一致，差異不大，稅務規劃相對單純。\n",
    "- BTD < 0：公司稅務申報所得比帳面盈餘還高，表示某些支出在稅務上不被承認或扣除，或有特殊規定增加計稅基礎。"
   ]
  },
  {
   "metadata": {
    "ExecuteTime": {
     "end_time": "2025-02-22T06:01:50.913249Z",
     "start_time": "2025-02-22T06:01:50.909836Z"
    }
   },
   "cell_type": "code",
   "source": [
    "print(\" - 建立 'BTD' (帳面稅差)\")\n",
    "cleaned_data['BTD'] = cleaned_data['Pretax Income'] - cleaned_data['Income Taxes - Total']"
   ],
   "outputs": [
    {
     "name": "stdout",
     "output_type": "stream",
     "text": [
      " - 建立 'BTD' (帳面稅差)\n"
     ]
    }
   ],
   "execution_count": 83
  },
  {
   "metadata": {},
   "cell_type": "markdown",
   "source": "## 拆分數據集"
  },
  {
   "metadata": {
    "ExecuteTime": {
     "end_time": "2025-02-22T06:01:50.943688Z",
     "start_time": "2025-02-22T06:01:50.939387Z"
    }
   },
   "cell_type": "code",
   "source": [
    "# 刪除不分析的資料\n",
    "cleaned_data = cleaned_data.drop(columns=['Global Company Key', 'Data Date', 'Data Year - Fiscal',\n",
    "       'Level of Consolidation - Company Annual Descriptor',\n",
    "       'Population Source', 'Data Format', 'Ticker Symbol', 'CUSIP',\n",
    "       'Company Name', 'ISO Currency Code', 'Active/Inactive Status Marker', 'year'])"
   ],
   "outputs": [],
   "execution_count": 84
  },
  {
   "metadata": {
    "ExecuteTime": {
     "end_time": "2025-02-22T06:01:51.015164Z",
     "start_time": "2025-02-22T06:01:51.011378Z"
    }
   },
   "cell_type": "code",
   "source": [
    "y = cleaned_data['BTD']\n",
    "X = cleaned_data.drop(columns=['BTD'])"
   ],
   "outputs": [],
   "execution_count": 85
  },
  {
   "metadata": {},
   "cell_type": "markdown",
   "source": "### Pearson Correlation"
  },
  {
   "metadata": {
    "ExecuteTime": {
     "end_time": "2025-02-22T06:01:51.058161Z",
     "start_time": "2025-02-22T06:01:51.037695Z"
    }
   },
   "cell_type": "code",
   "source": "X.corr().abs() > 0.8",
   "outputs": [
    {
     "data": {
      "text/plain": [
       "                                      Assets - Total  Capital Expenditures  \\\n",
       "Assets - Total                                  True                 False   \n",
       "Capital Expenditures                           False                  True   \n",
       "Common Shares Outstanding                      False                 False   \n",
       "Operating Activities - Net Cash Flow           False                 False   \n",
       "Pretax Income                                  False                 False   \n",
       "Special Items                                  False                 False   \n",
       "Income Taxes Paid                              False                 False   \n",
       "Income Taxes - Total                           False                 False   \n",
       "Industry Format_INDL                           False                 False   \n",
       "\n",
       "                                      Common Shares Outstanding  \\\n",
       "Assets - Total                                            False   \n",
       "Capital Expenditures                                      False   \n",
       "Common Shares Outstanding                                  True   \n",
       "Operating Activities - Net Cash Flow                      False   \n",
       "Pretax Income                                             False   \n",
       "Special Items                                             False   \n",
       "Income Taxes Paid                                         False   \n",
       "Income Taxes - Total                                      False   \n",
       "Industry Format_INDL                                      False   \n",
       "\n",
       "                                      Operating Activities - Net Cash Flow  \\\n",
       "Assets - Total                                                       False   \n",
       "Capital Expenditures                                                 False   \n",
       "Common Shares Outstanding                                            False   \n",
       "Operating Activities - Net Cash Flow                                  True   \n",
       "Pretax Income                                                        False   \n",
       "Special Items                                                        False   \n",
       "Income Taxes Paid                                                    False   \n",
       "Income Taxes - Total                                                 False   \n",
       "Industry Format_INDL                                                 False   \n",
       "\n",
       "                                      Pretax Income  Special Items  \\\n",
       "Assets - Total                                False          False   \n",
       "Capital Expenditures                          False          False   \n",
       "Common Shares Outstanding                     False          False   \n",
       "Operating Activities - Net Cash Flow          False          False   \n",
       "Pretax Income                                  True          False   \n",
       "Special Items                                 False           True   \n",
       "Income Taxes Paid                             False          False   \n",
       "Income Taxes - Total                           True          False   \n",
       "Industry Format_INDL                          False          False   \n",
       "\n",
       "                                      Income Taxes Paid  Income Taxes - Total  \\\n",
       "Assets - Total                                    False                 False   \n",
       "Capital Expenditures                              False                 False   \n",
       "Common Shares Outstanding                         False                 False   \n",
       "Operating Activities - Net Cash Flow              False                 False   \n",
       "Pretax Income                                     False                  True   \n",
       "Special Items                                     False                 False   \n",
       "Income Taxes Paid                                  True                 False   \n",
       "Income Taxes - Total                              False                  True   \n",
       "Industry Format_INDL                              False                 False   \n",
       "\n",
       "                                      Industry Format_INDL  \n",
       "Assets - Total                                       False  \n",
       "Capital Expenditures                                 False  \n",
       "Common Shares Outstanding                            False  \n",
       "Operating Activities - Net Cash Flow                 False  \n",
       "Pretax Income                                        False  \n",
       "Special Items                                        False  \n",
       "Income Taxes Paid                                    False  \n",
       "Income Taxes - Total                                 False  \n",
       "Industry Format_INDL                                  True  "
      ],
      "text/html": [
       "<div>\n",
       "<style scoped>\n",
       "    .dataframe tbody tr th:only-of-type {\n",
       "        vertical-align: middle;\n",
       "    }\n",
       "\n",
       "    .dataframe tbody tr th {\n",
       "        vertical-align: top;\n",
       "    }\n",
       "\n",
       "    .dataframe thead th {\n",
       "        text-align: right;\n",
       "    }\n",
       "</style>\n",
       "<table border=\"1\" class=\"dataframe\">\n",
       "  <thead>\n",
       "    <tr style=\"text-align: right;\">\n",
       "      <th></th>\n",
       "      <th>Assets - Total</th>\n",
       "      <th>Capital Expenditures</th>\n",
       "      <th>Common Shares Outstanding</th>\n",
       "      <th>Operating Activities - Net Cash Flow</th>\n",
       "      <th>Pretax Income</th>\n",
       "      <th>Special Items</th>\n",
       "      <th>Income Taxes Paid</th>\n",
       "      <th>Income Taxes - Total</th>\n",
       "      <th>Industry Format_INDL</th>\n",
       "    </tr>\n",
       "  </thead>\n",
       "  <tbody>\n",
       "    <tr>\n",
       "      <th>Assets - Total</th>\n",
       "      <td>True</td>\n",
       "      <td>False</td>\n",
       "      <td>False</td>\n",
       "      <td>False</td>\n",
       "      <td>False</td>\n",
       "      <td>False</td>\n",
       "      <td>False</td>\n",
       "      <td>False</td>\n",
       "      <td>False</td>\n",
       "    </tr>\n",
       "    <tr>\n",
       "      <th>Capital Expenditures</th>\n",
       "      <td>False</td>\n",
       "      <td>True</td>\n",
       "      <td>False</td>\n",
       "      <td>False</td>\n",
       "      <td>False</td>\n",
       "      <td>False</td>\n",
       "      <td>False</td>\n",
       "      <td>False</td>\n",
       "      <td>False</td>\n",
       "    </tr>\n",
       "    <tr>\n",
       "      <th>Common Shares Outstanding</th>\n",
       "      <td>False</td>\n",
       "      <td>False</td>\n",
       "      <td>True</td>\n",
       "      <td>False</td>\n",
       "      <td>False</td>\n",
       "      <td>False</td>\n",
       "      <td>False</td>\n",
       "      <td>False</td>\n",
       "      <td>False</td>\n",
       "    </tr>\n",
       "    <tr>\n",
       "      <th>Operating Activities - Net Cash Flow</th>\n",
       "      <td>False</td>\n",
       "      <td>False</td>\n",
       "      <td>False</td>\n",
       "      <td>True</td>\n",
       "      <td>False</td>\n",
       "      <td>False</td>\n",
       "      <td>False</td>\n",
       "      <td>False</td>\n",
       "      <td>False</td>\n",
       "    </tr>\n",
       "    <tr>\n",
       "      <th>Pretax Income</th>\n",
       "      <td>False</td>\n",
       "      <td>False</td>\n",
       "      <td>False</td>\n",
       "      <td>False</td>\n",
       "      <td>True</td>\n",
       "      <td>False</td>\n",
       "      <td>False</td>\n",
       "      <td>True</td>\n",
       "      <td>False</td>\n",
       "    </tr>\n",
       "    <tr>\n",
       "      <th>Special Items</th>\n",
       "      <td>False</td>\n",
       "      <td>False</td>\n",
       "      <td>False</td>\n",
       "      <td>False</td>\n",
       "      <td>False</td>\n",
       "      <td>True</td>\n",
       "      <td>False</td>\n",
       "      <td>False</td>\n",
       "      <td>False</td>\n",
       "    </tr>\n",
       "    <tr>\n",
       "      <th>Income Taxes Paid</th>\n",
       "      <td>False</td>\n",
       "      <td>False</td>\n",
       "      <td>False</td>\n",
       "      <td>False</td>\n",
       "      <td>False</td>\n",
       "      <td>False</td>\n",
       "      <td>True</td>\n",
       "      <td>False</td>\n",
       "      <td>False</td>\n",
       "    </tr>\n",
       "    <tr>\n",
       "      <th>Income Taxes - Total</th>\n",
       "      <td>False</td>\n",
       "      <td>False</td>\n",
       "      <td>False</td>\n",
       "      <td>False</td>\n",
       "      <td>True</td>\n",
       "      <td>False</td>\n",
       "      <td>False</td>\n",
       "      <td>True</td>\n",
       "      <td>False</td>\n",
       "    </tr>\n",
       "    <tr>\n",
       "      <th>Industry Format_INDL</th>\n",
       "      <td>False</td>\n",
       "      <td>False</td>\n",
       "      <td>False</td>\n",
       "      <td>False</td>\n",
       "      <td>False</td>\n",
       "      <td>False</td>\n",
       "      <td>False</td>\n",
       "      <td>False</td>\n",
       "      <td>True</td>\n",
       "    </tr>\n",
       "  </tbody>\n",
       "</table>\n",
       "</div>"
      ]
     },
     "execution_count": 86,
     "metadata": {},
     "output_type": "execute_result"
    }
   ],
   "execution_count": 86
  },
  {
   "metadata": {
    "ExecuteTime": {
     "end_time": "2025-02-22T06:01:51.089999Z",
     "start_time": "2025-02-22T06:01:51.085787Z"
    }
   },
   "cell_type": "code",
   "source": [
    "# Income Taxes - Total 與 Pretax Income 相關性過高，刪除 Pretax Income\n",
    "X = X.drop(columns=['Pretax Income'])"
   ],
   "outputs": [],
   "execution_count": 87
  },
  {
   "metadata": {},
   "cell_type": "markdown",
   "source": "### 分割數據"
  },
  {
   "metadata": {
    "ExecuteTime": {
     "end_time": "2025-02-22T06:01:51.140395Z",
     "start_time": "2025-02-22T06:01:51.129516Z"
    }
   },
   "cell_type": "code",
   "source": "X_train, X_test, y_train, y_test = train_test_split(X, y, test_size=0.2, random_state=42)",
   "outputs": [],
   "execution_count": 88
  },
  {
   "metadata": {},
   "cell_type": "markdown",
   "source": "## 建模"
  },
  {
   "metadata": {
    "ExecuteTime": {
     "end_time": "2025-02-22T06:01:51.231800Z",
     "start_time": "2025-02-22T06:01:51.218028Z"
    }
   },
   "cell_type": "code",
   "source": [
    "model = LinearRegression()\n",
    "model.fit(X_train, y_train)"
   ],
   "outputs": [
    {
     "data": {
      "text/plain": [
       "LinearRegression()"
      ],
      "text/html": [
       "<style>#sk-container-id-2 {\n",
       "  /* Definition of color scheme common for light and dark mode */\n",
       "  --sklearn-color-text: #000;\n",
       "  --sklearn-color-text-muted: #666;\n",
       "  --sklearn-color-line: gray;\n",
       "  /* Definition of color scheme for unfitted estimators */\n",
       "  --sklearn-color-unfitted-level-0: #fff5e6;\n",
       "  --sklearn-color-unfitted-level-1: #f6e4d2;\n",
       "  --sklearn-color-unfitted-level-2: #ffe0b3;\n",
       "  --sklearn-color-unfitted-level-3: chocolate;\n",
       "  /* Definition of color scheme for fitted estimators */\n",
       "  --sklearn-color-fitted-level-0: #f0f8ff;\n",
       "  --sklearn-color-fitted-level-1: #d4ebff;\n",
       "  --sklearn-color-fitted-level-2: #b3dbfd;\n",
       "  --sklearn-color-fitted-level-3: cornflowerblue;\n",
       "\n",
       "  /* Specific color for light theme */\n",
       "  --sklearn-color-text-on-default-background: var(--sg-text-color, var(--theme-code-foreground, var(--jp-content-font-color1, black)));\n",
       "  --sklearn-color-background: var(--sg-background-color, var(--theme-background, var(--jp-layout-color0, white)));\n",
       "  --sklearn-color-border-box: var(--sg-text-color, var(--theme-code-foreground, var(--jp-content-font-color1, black)));\n",
       "  --sklearn-color-icon: #696969;\n",
       "\n",
       "  @media (prefers-color-scheme: dark) {\n",
       "    /* Redefinition of color scheme for dark theme */\n",
       "    --sklearn-color-text-on-default-background: var(--sg-text-color, var(--theme-code-foreground, var(--jp-content-font-color1, white)));\n",
       "    --sklearn-color-background: var(--sg-background-color, var(--theme-background, var(--jp-layout-color0, #111)));\n",
       "    --sklearn-color-border-box: var(--sg-text-color, var(--theme-code-foreground, var(--jp-content-font-color1, white)));\n",
       "    --sklearn-color-icon: #878787;\n",
       "  }\n",
       "}\n",
       "\n",
       "#sk-container-id-2 {\n",
       "  color: var(--sklearn-color-text);\n",
       "}\n",
       "\n",
       "#sk-container-id-2 pre {\n",
       "  padding: 0;\n",
       "}\n",
       "\n",
       "#sk-container-id-2 input.sk-hidden--visually {\n",
       "  border: 0;\n",
       "  clip: rect(1px 1px 1px 1px);\n",
       "  clip: rect(1px, 1px, 1px, 1px);\n",
       "  height: 1px;\n",
       "  margin: -1px;\n",
       "  overflow: hidden;\n",
       "  padding: 0;\n",
       "  position: absolute;\n",
       "  width: 1px;\n",
       "}\n",
       "\n",
       "#sk-container-id-2 div.sk-dashed-wrapped {\n",
       "  border: 1px dashed var(--sklearn-color-line);\n",
       "  margin: 0 0.4em 0.5em 0.4em;\n",
       "  box-sizing: border-box;\n",
       "  padding-bottom: 0.4em;\n",
       "  background-color: var(--sklearn-color-background);\n",
       "}\n",
       "\n",
       "#sk-container-id-2 div.sk-container {\n",
       "  /* jupyter's `normalize.less` sets `[hidden] { display: none; }`\n",
       "     but bootstrap.min.css set `[hidden] { display: none !important; }`\n",
       "     so we also need the `!important` here to be able to override the\n",
       "     default hidden behavior on the sphinx rendered scikit-learn.org.\n",
       "     See: https://github.com/scikit-learn/scikit-learn/issues/21755 */\n",
       "  display: inline-block !important;\n",
       "  position: relative;\n",
       "}\n",
       "\n",
       "#sk-container-id-2 div.sk-text-repr-fallback {\n",
       "  display: none;\n",
       "}\n",
       "\n",
       "div.sk-parallel-item,\n",
       "div.sk-serial,\n",
       "div.sk-item {\n",
       "  /* draw centered vertical line to link estimators */\n",
       "  background-image: linear-gradient(var(--sklearn-color-text-on-default-background), var(--sklearn-color-text-on-default-background));\n",
       "  background-size: 2px 100%;\n",
       "  background-repeat: no-repeat;\n",
       "  background-position: center center;\n",
       "}\n",
       "\n",
       "/* Parallel-specific style estimator block */\n",
       "\n",
       "#sk-container-id-2 div.sk-parallel-item::after {\n",
       "  content: \"\";\n",
       "  width: 100%;\n",
       "  border-bottom: 2px solid var(--sklearn-color-text-on-default-background);\n",
       "  flex-grow: 1;\n",
       "}\n",
       "\n",
       "#sk-container-id-2 div.sk-parallel {\n",
       "  display: flex;\n",
       "  align-items: stretch;\n",
       "  justify-content: center;\n",
       "  background-color: var(--sklearn-color-background);\n",
       "  position: relative;\n",
       "}\n",
       "\n",
       "#sk-container-id-2 div.sk-parallel-item {\n",
       "  display: flex;\n",
       "  flex-direction: column;\n",
       "}\n",
       "\n",
       "#sk-container-id-2 div.sk-parallel-item:first-child::after {\n",
       "  align-self: flex-end;\n",
       "  width: 50%;\n",
       "}\n",
       "\n",
       "#sk-container-id-2 div.sk-parallel-item:last-child::after {\n",
       "  align-self: flex-start;\n",
       "  width: 50%;\n",
       "}\n",
       "\n",
       "#sk-container-id-2 div.sk-parallel-item:only-child::after {\n",
       "  width: 0;\n",
       "}\n",
       "\n",
       "/* Serial-specific style estimator block */\n",
       "\n",
       "#sk-container-id-2 div.sk-serial {\n",
       "  display: flex;\n",
       "  flex-direction: column;\n",
       "  align-items: center;\n",
       "  background-color: var(--sklearn-color-background);\n",
       "  padding-right: 1em;\n",
       "  padding-left: 1em;\n",
       "}\n",
       "\n",
       "\n",
       "/* Toggleable style: style used for estimator/Pipeline/ColumnTransformer box that is\n",
       "clickable and can be expanded/collapsed.\n",
       "- Pipeline and ColumnTransformer use this feature and define the default style\n",
       "- Estimators will overwrite some part of the style using the `sk-estimator` class\n",
       "*/\n",
       "\n",
       "/* Pipeline and ColumnTransformer style (default) */\n",
       "\n",
       "#sk-container-id-2 div.sk-toggleable {\n",
       "  /* Default theme specific background. It is overwritten whether we have a\n",
       "  specific estimator or a Pipeline/ColumnTransformer */\n",
       "  background-color: var(--sklearn-color-background);\n",
       "}\n",
       "\n",
       "/* Toggleable label */\n",
       "#sk-container-id-2 label.sk-toggleable__label {\n",
       "  cursor: pointer;\n",
       "  display: flex;\n",
       "  width: 100%;\n",
       "  margin-bottom: 0;\n",
       "  padding: 0.5em;\n",
       "  box-sizing: border-box;\n",
       "  text-align: center;\n",
       "  align-items: start;\n",
       "  justify-content: space-between;\n",
       "  gap: 0.5em;\n",
       "}\n",
       "\n",
       "#sk-container-id-2 label.sk-toggleable__label .caption {\n",
       "  font-size: 0.6rem;\n",
       "  font-weight: lighter;\n",
       "  color: var(--sklearn-color-text-muted);\n",
       "}\n",
       "\n",
       "#sk-container-id-2 label.sk-toggleable__label-arrow:before {\n",
       "  /* Arrow on the left of the label */\n",
       "  content: \"▸\";\n",
       "  float: left;\n",
       "  margin-right: 0.25em;\n",
       "  color: var(--sklearn-color-icon);\n",
       "}\n",
       "\n",
       "#sk-container-id-2 label.sk-toggleable__label-arrow:hover:before {\n",
       "  color: var(--sklearn-color-text);\n",
       "}\n",
       "\n",
       "/* Toggleable content - dropdown */\n",
       "\n",
       "#sk-container-id-2 div.sk-toggleable__content {\n",
       "  max-height: 0;\n",
       "  max-width: 0;\n",
       "  overflow: hidden;\n",
       "  text-align: left;\n",
       "  /* unfitted */\n",
       "  background-color: var(--sklearn-color-unfitted-level-0);\n",
       "}\n",
       "\n",
       "#sk-container-id-2 div.sk-toggleable__content.fitted {\n",
       "  /* fitted */\n",
       "  background-color: var(--sklearn-color-fitted-level-0);\n",
       "}\n",
       "\n",
       "#sk-container-id-2 div.sk-toggleable__content pre {\n",
       "  margin: 0.2em;\n",
       "  border-radius: 0.25em;\n",
       "  color: var(--sklearn-color-text);\n",
       "  /* unfitted */\n",
       "  background-color: var(--sklearn-color-unfitted-level-0);\n",
       "}\n",
       "\n",
       "#sk-container-id-2 div.sk-toggleable__content.fitted pre {\n",
       "  /* unfitted */\n",
       "  background-color: var(--sklearn-color-fitted-level-0);\n",
       "}\n",
       "\n",
       "#sk-container-id-2 input.sk-toggleable__control:checked~div.sk-toggleable__content {\n",
       "  /* Expand drop-down */\n",
       "  max-height: 200px;\n",
       "  max-width: 100%;\n",
       "  overflow: auto;\n",
       "}\n",
       "\n",
       "#sk-container-id-2 input.sk-toggleable__control:checked~label.sk-toggleable__label-arrow:before {\n",
       "  content: \"▾\";\n",
       "}\n",
       "\n",
       "/* Pipeline/ColumnTransformer-specific style */\n",
       "\n",
       "#sk-container-id-2 div.sk-label input.sk-toggleable__control:checked~label.sk-toggleable__label {\n",
       "  color: var(--sklearn-color-text);\n",
       "  background-color: var(--sklearn-color-unfitted-level-2);\n",
       "}\n",
       "\n",
       "#sk-container-id-2 div.sk-label.fitted input.sk-toggleable__control:checked~label.sk-toggleable__label {\n",
       "  background-color: var(--sklearn-color-fitted-level-2);\n",
       "}\n",
       "\n",
       "/* Estimator-specific style */\n",
       "\n",
       "/* Colorize estimator box */\n",
       "#sk-container-id-2 div.sk-estimator input.sk-toggleable__control:checked~label.sk-toggleable__label {\n",
       "  /* unfitted */\n",
       "  background-color: var(--sklearn-color-unfitted-level-2);\n",
       "}\n",
       "\n",
       "#sk-container-id-2 div.sk-estimator.fitted input.sk-toggleable__control:checked~label.sk-toggleable__label {\n",
       "  /* fitted */\n",
       "  background-color: var(--sklearn-color-fitted-level-2);\n",
       "}\n",
       "\n",
       "#sk-container-id-2 div.sk-label label.sk-toggleable__label,\n",
       "#sk-container-id-2 div.sk-label label {\n",
       "  /* The background is the default theme color */\n",
       "  color: var(--sklearn-color-text-on-default-background);\n",
       "}\n",
       "\n",
       "/* On hover, darken the color of the background */\n",
       "#sk-container-id-2 div.sk-label:hover label.sk-toggleable__label {\n",
       "  color: var(--sklearn-color-text);\n",
       "  background-color: var(--sklearn-color-unfitted-level-2);\n",
       "}\n",
       "\n",
       "/* Label box, darken color on hover, fitted */\n",
       "#sk-container-id-2 div.sk-label.fitted:hover label.sk-toggleable__label.fitted {\n",
       "  color: var(--sklearn-color-text);\n",
       "  background-color: var(--sklearn-color-fitted-level-2);\n",
       "}\n",
       "\n",
       "/* Estimator label */\n",
       "\n",
       "#sk-container-id-2 div.sk-label label {\n",
       "  font-family: monospace;\n",
       "  font-weight: bold;\n",
       "  display: inline-block;\n",
       "  line-height: 1.2em;\n",
       "}\n",
       "\n",
       "#sk-container-id-2 div.sk-label-container {\n",
       "  text-align: center;\n",
       "}\n",
       "\n",
       "/* Estimator-specific */\n",
       "#sk-container-id-2 div.sk-estimator {\n",
       "  font-family: monospace;\n",
       "  border: 1px dotted var(--sklearn-color-border-box);\n",
       "  border-radius: 0.25em;\n",
       "  box-sizing: border-box;\n",
       "  margin-bottom: 0.5em;\n",
       "  /* unfitted */\n",
       "  background-color: var(--sklearn-color-unfitted-level-0);\n",
       "}\n",
       "\n",
       "#sk-container-id-2 div.sk-estimator.fitted {\n",
       "  /* fitted */\n",
       "  background-color: var(--sklearn-color-fitted-level-0);\n",
       "}\n",
       "\n",
       "/* on hover */\n",
       "#sk-container-id-2 div.sk-estimator:hover {\n",
       "  /* unfitted */\n",
       "  background-color: var(--sklearn-color-unfitted-level-2);\n",
       "}\n",
       "\n",
       "#sk-container-id-2 div.sk-estimator.fitted:hover {\n",
       "  /* fitted */\n",
       "  background-color: var(--sklearn-color-fitted-level-2);\n",
       "}\n",
       "\n",
       "/* Specification for estimator info (e.g. \"i\" and \"?\") */\n",
       "\n",
       "/* Common style for \"i\" and \"?\" */\n",
       "\n",
       ".sk-estimator-doc-link,\n",
       "a:link.sk-estimator-doc-link,\n",
       "a:visited.sk-estimator-doc-link {\n",
       "  float: right;\n",
       "  font-size: smaller;\n",
       "  line-height: 1em;\n",
       "  font-family: monospace;\n",
       "  background-color: var(--sklearn-color-background);\n",
       "  border-radius: 1em;\n",
       "  height: 1em;\n",
       "  width: 1em;\n",
       "  text-decoration: none !important;\n",
       "  margin-left: 0.5em;\n",
       "  text-align: center;\n",
       "  /* unfitted */\n",
       "  border: var(--sklearn-color-unfitted-level-1) 1pt solid;\n",
       "  color: var(--sklearn-color-unfitted-level-1);\n",
       "}\n",
       "\n",
       ".sk-estimator-doc-link.fitted,\n",
       "a:link.sk-estimator-doc-link.fitted,\n",
       "a:visited.sk-estimator-doc-link.fitted {\n",
       "  /* fitted */\n",
       "  border: var(--sklearn-color-fitted-level-1) 1pt solid;\n",
       "  color: var(--sklearn-color-fitted-level-1);\n",
       "}\n",
       "\n",
       "/* On hover */\n",
       "div.sk-estimator:hover .sk-estimator-doc-link:hover,\n",
       ".sk-estimator-doc-link:hover,\n",
       "div.sk-label-container:hover .sk-estimator-doc-link:hover,\n",
       ".sk-estimator-doc-link:hover {\n",
       "  /* unfitted */\n",
       "  background-color: var(--sklearn-color-unfitted-level-3);\n",
       "  color: var(--sklearn-color-background);\n",
       "  text-decoration: none;\n",
       "}\n",
       "\n",
       "div.sk-estimator.fitted:hover .sk-estimator-doc-link.fitted:hover,\n",
       ".sk-estimator-doc-link.fitted:hover,\n",
       "div.sk-label-container:hover .sk-estimator-doc-link.fitted:hover,\n",
       ".sk-estimator-doc-link.fitted:hover {\n",
       "  /* fitted */\n",
       "  background-color: var(--sklearn-color-fitted-level-3);\n",
       "  color: var(--sklearn-color-background);\n",
       "  text-decoration: none;\n",
       "}\n",
       "\n",
       "/* Span, style for the box shown on hovering the info icon */\n",
       ".sk-estimator-doc-link span {\n",
       "  display: none;\n",
       "  z-index: 9999;\n",
       "  position: relative;\n",
       "  font-weight: normal;\n",
       "  right: .2ex;\n",
       "  padding: .5ex;\n",
       "  margin: .5ex;\n",
       "  width: min-content;\n",
       "  min-width: 20ex;\n",
       "  max-width: 50ex;\n",
       "  color: var(--sklearn-color-text);\n",
       "  box-shadow: 2pt 2pt 4pt #999;\n",
       "  /* unfitted */\n",
       "  background: var(--sklearn-color-unfitted-level-0);\n",
       "  border: .5pt solid var(--sklearn-color-unfitted-level-3);\n",
       "}\n",
       "\n",
       ".sk-estimator-doc-link.fitted span {\n",
       "  /* fitted */\n",
       "  background: var(--sklearn-color-fitted-level-0);\n",
       "  border: var(--sklearn-color-fitted-level-3);\n",
       "}\n",
       "\n",
       ".sk-estimator-doc-link:hover span {\n",
       "  display: block;\n",
       "}\n",
       "\n",
       "/* \"?\"-specific style due to the `<a>` HTML tag */\n",
       "\n",
       "#sk-container-id-2 a.estimator_doc_link {\n",
       "  float: right;\n",
       "  font-size: 1rem;\n",
       "  line-height: 1em;\n",
       "  font-family: monospace;\n",
       "  background-color: var(--sklearn-color-background);\n",
       "  border-radius: 1rem;\n",
       "  height: 1rem;\n",
       "  width: 1rem;\n",
       "  text-decoration: none;\n",
       "  /* unfitted */\n",
       "  color: var(--sklearn-color-unfitted-level-1);\n",
       "  border: var(--sklearn-color-unfitted-level-1) 1pt solid;\n",
       "}\n",
       "\n",
       "#sk-container-id-2 a.estimator_doc_link.fitted {\n",
       "  /* fitted */\n",
       "  border: var(--sklearn-color-fitted-level-1) 1pt solid;\n",
       "  color: var(--sklearn-color-fitted-level-1);\n",
       "}\n",
       "\n",
       "/* On hover */\n",
       "#sk-container-id-2 a.estimator_doc_link:hover {\n",
       "  /* unfitted */\n",
       "  background-color: var(--sklearn-color-unfitted-level-3);\n",
       "  color: var(--sklearn-color-background);\n",
       "  text-decoration: none;\n",
       "}\n",
       "\n",
       "#sk-container-id-2 a.estimator_doc_link.fitted:hover {\n",
       "  /* fitted */\n",
       "  background-color: var(--sklearn-color-fitted-level-3);\n",
       "}\n",
       "</style><div id=\"sk-container-id-2\" class=\"sk-top-container\"><div class=\"sk-text-repr-fallback\"><pre>LinearRegression()</pre><b>In a Jupyter environment, please rerun this cell to show the HTML representation or trust the notebook. <br />On GitHub, the HTML representation is unable to render, please try loading this page with nbviewer.org.</b></div><div class=\"sk-container\" hidden><div class=\"sk-item\"><div class=\"sk-estimator fitted sk-toggleable\"><input class=\"sk-toggleable__control sk-hidden--visually\" id=\"sk-estimator-id-2\" type=\"checkbox\" checked><label for=\"sk-estimator-id-2\" class=\"sk-toggleable__label fitted sk-toggleable__label-arrow\"><div><div>LinearRegression</div></div><div><a class=\"sk-estimator-doc-link fitted\" rel=\"noreferrer\" target=\"_blank\" href=\"https://scikit-learn.org/1.6/modules/generated/sklearn.linear_model.LinearRegression.html\">?<span>Documentation for LinearRegression</span></a><span class=\"sk-estimator-doc-link fitted\">i<span>Fitted</span></span></div></label><div class=\"sk-toggleable__content fitted\"><pre>LinearRegression()</pre></div> </div></div></div></div>"
      ]
     },
     "execution_count": 89,
     "metadata": {},
     "output_type": "execute_result"
    }
   ],
   "execution_count": 89
  },
  {
   "metadata": {},
   "cell_type": "markdown",
   "source": "## 模型評估"
  },
  {
   "metadata": {
    "ExecuteTime": {
     "end_time": "2025-02-22T06:01:51.276309Z",
     "start_time": "2025-02-22T06:01:51.269260Z"
    }
   },
   "cell_type": "code",
   "source": [
    "Y_train = model.predict(X_train)\n",
    "mse = np.sum((Y_train - y_train) ** 2) / len(y_train)\n",
    "print('train data - mse: ', mse)\n",
    "r2 = r2_score(y_train, Y_train)\n",
    "print(f\"train data - R-squared: {r2:.4f}\")"
   ],
   "outputs": [
    {
     "name": "stdout",
     "output_type": "stream",
     "text": [
      "train data - mse:  11.292231868945313\n",
      "train data - R-squared: 0.4306\n"
     ]
    }
   ],
   "execution_count": 90
  },
  {
   "metadata": {
    "ExecuteTime": {
     "end_time": "2025-02-22T06:01:51.307525Z",
     "start_time": "2025-02-22T06:01:51.301326Z"
    }
   },
   "cell_type": "code",
   "source": [
    "Y_test = model.predict(X_test)\n",
    "mse = np.sum((Y_test - y_test) ** 2) / len(y_test)\n",
    "print('test data - mse: ', mse)\n",
    "r2 = r2_score(y_test, Y_test)\n",
    "print(f\"test data - R-squared: {r2:.4f}\")"
   ],
   "outputs": [
    {
     "name": "stdout",
     "output_type": "stream",
     "text": [
      "test data - mse:  9.176378706593038\n",
      "test data - R-squared: 0.3823\n"
     ]
    }
   ],
   "execution_count": 91
  },
  {
   "metadata": {},
   "cell_type": "markdown",
   "source": "## 結論"
  },
  {
   "metadata": {},
   "cell_type": "markdown",
   "source": [
    "- R²=0.42 表示模型已解釋約 40% 的 BTD 變異，對財務數據而言並不算太差，但是模型的解釋力不夠，表示還有其他影響 BTD 的因素沒有被納入特徵（e.g. 總體經濟變數）。\n",
    "- MSE 過高，表示模型與目標之間的適配度不佳，可能採用的模型形式不適合資料的結構（如非線性卻用了線性模型）"
   ]
  },
  {
   "metadata": {
    "ExecuteTime": {
     "end_time": "2025-02-22T06:01:51.335192Z",
     "start_time": "2025-02-22T06:01:51.332950Z"
    }
   },
   "cell_type": "code",
   "source": "",
   "outputs": [],
   "execution_count": null
  },
  {
   "metadata": {},
   "cell_type": "code",
   "outputs": [],
   "execution_count": null,
   "source": ""
  }
 ],
 "metadata": {
  "kernelspec": {
   "display_name": "Python 3",
   "language": "python",
   "name": "python3"
  },
  "language_info": {
   "codemirror_mode": {
    "name": "ipython",
    "version": 3
   },
   "file_extension": ".py",
   "mimetype": "text/x-python",
   "name": "python",
   "nbconvert_exporter": "python",
   "pygments_lexer": "ipython3",
   "version": "3.13.1"
  }
 },
 "nbformat": 4,
 "nbformat_minor": 2
}
